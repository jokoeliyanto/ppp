{
  "nbformat": 4,
  "nbformat_minor": 5,
  "metadata": {
    "kernelspec": {
      "display_name": "Python 3",
      "language": "python",
      "name": "python3"
    },
    "language_info": {
      "codemirror_mode": {
        "name": "ipython",
        "version": 3
      },
      "file_extension": ".py",
      "mimetype": "text/x-python",
      "name": "python",
      "nbconvert_exporter": "python",
      "pygments_lexer": "ipython3",
      "version": "3.8.5"
    },
    "colab": {
      "name": "[1] Data Retail Analysis using Python Pandas.ipynb",
      "provenance": [],
      "include_colab_link": true
    }
  },
  "cells": [
    {
      "cell_type": "markdown",
      "metadata": {
        "id": "view-in-github",
        "colab_type": "text"
      },
      "source": [
        "<a href=\"https://colab.research.google.com/github/jokoeliyanto/ppp/blob/main/%5B1%5D_Data_Retail_Analysis_using_Python_Pandas.ipynb\" target=\"_parent\"><img src=\"https://colab.research.google.com/assets/colab-badge.svg\" alt=\"Open In Colab\"/></a>"
      ]
    },
    {
      "cell_type": "markdown",
      "metadata": {
        "id": "dqFV1V22J5oU"
      },
      "source": [
        "<table>\n",
        "  <tr><td>\n",
        "    <img src=\"https://raw.githubusercontent.com/jokoeliyanto/ppp/main/images/h1.png\">\n",
        "  </td></tr>\n",
        "<table>"
      ],
      "id": "dqFV1V22J5oU"
    },
    {
      "cell_type": "markdown",
      "metadata": {
        "id": "1_Ss4hKaJ5oc"
      },
      "source": [
        "# Project Background"
      ],
      "id": "1_Ss4hKaJ5oc"
    },
    {
      "cell_type": "markdown",
      "metadata": {
        "id": "hXrbs4cnJ5oe"
      },
      "source": [
        "This is a project with replica data. This is a data analysis project for a retail company. The data provided is sales data to consumers from January 2019 to January 2020. With the available data, we are expected to be able to generate insights to help refine the retail company's sales strategy. This project was inspired by the following web page:\n",
        "\n",
        "https://www.kdnuggets.com/2021/04/e-commerce-data-analysis-sales-strategy-python.html\n",
        "\n",
        "This project also uses the same dataset."
      ],
      "id": "hXrbs4cnJ5oe"
    },
    {
      "cell_type": "markdown",
      "metadata": {
        "id": "7OQFYaUKJ5of"
      },
      "source": [
        "# Problems Statements\n",
        "\n",
        "1. What month did you get the highest and lowest sales each year? How much income was earned at that time?\n",
        "2. Which city has the highest and lowest sales?\n",
        "3. Provide recommendations on the right time to place ads to maximize the possibility of buying the most consumers!\n",
        "4. What products sell the most? What do you think the reason is?"
      ],
      "id": "7OQFYaUKJ5of"
    },
    {
      "cell_type": "markdown",
      "metadata": {
        "id": "lJzCkHHbJ5oh"
      },
      "source": [
        "# Data Analysis Steps Using Python Pandas\n",
        " \n",
        "1. Loading dataset for per month in dataframe\n",
        "2. Merge data per month into one dataframe\n",
        "3. Doing Data Cleaning\n",
        "4. Conduct analysis to answer given business problems & questions"
      ],
      "id": "lJzCkHHbJ5oh"
    },
    {
      "cell_type": "markdown",
      "metadata": {
        "id": "hB74HiiEJ5oi"
      },
      "source": [
        "# Data Preparation"
      ],
      "id": "hB74HiiEJ5oi"
    },
    {
      "cell_type": "markdown",
      "metadata": {
        "id": "PDYIs1PyJ5ok"
      },
      "source": [
        "## Impor Library"
      ],
      "id": "PDYIs1PyJ5ok"
    },
    {
      "cell_type": "code",
      "metadata": {
        "id": "7LvAe58YJ5om"
      },
      "source": [
        "import pandas as pd\n",
        "import numpy as np\n",
        "import matplotlib.pyplot as plt\n",
        "%matplotlib inline"
      ],
      "id": "7LvAe58YJ5om",
      "execution_count": 1,
      "outputs": []
    },
    {
      "cell_type": "markdown",
      "metadata": {
        "id": "dvXdRxt1J5or"
      },
      "source": [
        "### Load Dataset"
      ],
      "id": "dvXdRxt1J5or"
    },
    {
      "cell_type": "code",
      "metadata": {
        "colab": {
          "base_uri": "https://localhost:8080/",
          "height": 415
        },
        "id": "LSJSN6g3J5ot",
        "outputId": "9de43610-3d68-4969-9cea-d5dacbe8a93b"
      },
      "source": [
        "# Import monthly sales data for January 2019\n",
        "df1=pd.read_csv(\"https://raw.githubusercontent.com/jokoeliyanto/ppp/main/dataset/Sales_January_2019.csv\")\n",
        "df1"
      ],
      "id": "LSJSN6g3J5ot",
      "execution_count": 2,
      "outputs": [
        {
          "output_type": "execute_result",
          "data": {
            "text/html": [
              "<div>\n",
              "<style scoped>\n",
              "    .dataframe tbody tr th:only-of-type {\n",
              "        vertical-align: middle;\n",
              "    }\n",
              "\n",
              "    .dataframe tbody tr th {\n",
              "        vertical-align: top;\n",
              "    }\n",
              "\n",
              "    .dataframe thead th {\n",
              "        text-align: right;\n",
              "    }\n",
              "</style>\n",
              "<table border=\"1\" class=\"dataframe\">\n",
              "  <thead>\n",
              "    <tr style=\"text-align: right;\">\n",
              "      <th></th>\n",
              "      <th>Order ID</th>\n",
              "      <th>Product</th>\n",
              "      <th>Quantity Ordered</th>\n",
              "      <th>Price Each</th>\n",
              "      <th>Order Date</th>\n",
              "      <th>Purchase Address</th>\n",
              "    </tr>\n",
              "  </thead>\n",
              "  <tbody>\n",
              "    <tr>\n",
              "      <th>0</th>\n",
              "      <td>141234</td>\n",
              "      <td>iPhone</td>\n",
              "      <td>1</td>\n",
              "      <td>700</td>\n",
              "      <td>01/22/19 21:25</td>\n",
              "      <td>944 Walnut St, Boston, MA 02215</td>\n",
              "    </tr>\n",
              "    <tr>\n",
              "      <th>1</th>\n",
              "      <td>141235</td>\n",
              "      <td>Lightning Charging Cable</td>\n",
              "      <td>1</td>\n",
              "      <td>14.95</td>\n",
              "      <td>01/28/19 14:15</td>\n",
              "      <td>185 Maple St, Portland, OR 97035</td>\n",
              "    </tr>\n",
              "    <tr>\n",
              "      <th>2</th>\n",
              "      <td>141236</td>\n",
              "      <td>Wired Headphones</td>\n",
              "      <td>2</td>\n",
              "      <td>11.99</td>\n",
              "      <td>01/17/19 13:33</td>\n",
              "      <td>538 Adams St, San Francisco, CA 94016</td>\n",
              "    </tr>\n",
              "    <tr>\n",
              "      <th>3</th>\n",
              "      <td>141237</td>\n",
              "      <td>27in FHD Monitor</td>\n",
              "      <td>1</td>\n",
              "      <td>149.99</td>\n",
              "      <td>01/05/19 20:33</td>\n",
              "      <td>738 10th St, Los Angeles, CA 90001</td>\n",
              "    </tr>\n",
              "    <tr>\n",
              "      <th>4</th>\n",
              "      <td>141238</td>\n",
              "      <td>Wired Headphones</td>\n",
              "      <td>1</td>\n",
              "      <td>11.99</td>\n",
              "      <td>01/25/19 11:59</td>\n",
              "      <td>387 10th St, Austin, TX 73301</td>\n",
              "    </tr>\n",
              "    <tr>\n",
              "      <th>...</th>\n",
              "      <td>...</td>\n",
              "      <td>...</td>\n",
              "      <td>...</td>\n",
              "      <td>...</td>\n",
              "      <td>...</td>\n",
              "      <td>...</td>\n",
              "    </tr>\n",
              "    <tr>\n",
              "      <th>9718</th>\n",
              "      <td>150497</td>\n",
              "      <td>20in Monitor</td>\n",
              "      <td>1</td>\n",
              "      <td>109.99</td>\n",
              "      <td>01/26/19 19:09</td>\n",
              "      <td>95 8th St, Dallas, TX 75001</td>\n",
              "    </tr>\n",
              "    <tr>\n",
              "      <th>9719</th>\n",
              "      <td>150498</td>\n",
              "      <td>27in FHD Monitor</td>\n",
              "      <td>1</td>\n",
              "      <td>149.99</td>\n",
              "      <td>01/10/19 22:58</td>\n",
              "      <td>403 7th St, San Francisco, CA 94016</td>\n",
              "    </tr>\n",
              "    <tr>\n",
              "      <th>9720</th>\n",
              "      <td>150499</td>\n",
              "      <td>ThinkPad Laptop</td>\n",
              "      <td>1</td>\n",
              "      <td>999.99</td>\n",
              "      <td>01/21/19 14:31</td>\n",
              "      <td>214 Main St, Portland, OR 97035</td>\n",
              "    </tr>\n",
              "    <tr>\n",
              "      <th>9721</th>\n",
              "      <td>150500</td>\n",
              "      <td>AAA Batteries (4-pack)</td>\n",
              "      <td>2</td>\n",
              "      <td>2.99</td>\n",
              "      <td>01/15/19 14:21</td>\n",
              "      <td>810 2nd St, Los Angeles, CA 90001</td>\n",
              "    </tr>\n",
              "    <tr>\n",
              "      <th>9722</th>\n",
              "      <td>150501</td>\n",
              "      <td>Google Phone</td>\n",
              "      <td>1</td>\n",
              "      <td>600</td>\n",
              "      <td>01/13/19 16:43</td>\n",
              "      <td>428 Cedar St, Boston, MA 02215</td>\n",
              "    </tr>\n",
              "  </tbody>\n",
              "</table>\n",
              "<p>9723 rows × 6 columns</p>\n",
              "</div>"
            ],
            "text/plain": [
              "     Order ID  ...                       Purchase Address\n",
              "0      141234  ...        944 Walnut St, Boston, MA 02215\n",
              "1      141235  ...       185 Maple St, Portland, OR 97035\n",
              "2      141236  ...  538 Adams St, San Francisco, CA 94016\n",
              "3      141237  ...     738 10th St, Los Angeles, CA 90001\n",
              "4      141238  ...          387 10th St, Austin, TX 73301\n",
              "...       ...  ...                                    ...\n",
              "9718   150497  ...            95 8th St, Dallas, TX 75001\n",
              "9719   150498  ...    403 7th St, San Francisco, CA 94016\n",
              "9720   150499  ...        214 Main St, Portland, OR 97035\n",
              "9721   150500  ...      810 2nd St, Los Angeles, CA 90001\n",
              "9722   150501  ...         428 Cedar St, Boston, MA 02215\n",
              "\n",
              "[9723 rows x 6 columns]"
            ]
          },
          "metadata": {
            "tags": []
          },
          "execution_count": 2
        }
      ]
    },
    {
      "cell_type": "code",
      "metadata": {
        "id": "tyRm0SJLJ5ov"
      },
      "source": [
        "df2=pd.read_csv(\"https://raw.githubusercontent.com/jokoeliyanto/ppp/main/dataset/Sales_February_2019.csv\")\n",
        "df3=pd.read_csv(\"https://raw.githubusercontent.com/jokoeliyanto/ppp/main/dataset/Sales_March_2019.csv\")\n",
        "df4=pd.read_csv(\"https://raw.githubusercontent.com/jokoeliyanto/ppp/main/dataset/Sales_April_2019.csv\")\n",
        "df5=pd.read_csv(\"https://raw.githubusercontent.com/jokoeliyanto/ppp/main/dataset/Sales_May_2019.csv\")\n",
        "df6=pd.read_csv(\"https://raw.githubusercontent.com/jokoeliyanto/ppp/main/dataset/Sales_June_2019.csv\")\n",
        "df7=pd.read_csv(\"https://raw.githubusercontent.com/jokoeliyanto/ppp/main/dataset/Sales_July_2019.csv\")\n",
        "df8=pd.read_csv(\"https://raw.githubusercontent.com/jokoeliyanto/ppp/main/dataset/Sales_August_2019.csv\")\n",
        "df9=pd.read_csv(\"https://raw.githubusercontent.com/jokoeliyanto/ppp/main/dataset/Sales_September_2019.csv\")\n",
        "df10=pd.read_csv(\"https://raw.githubusercontent.com/jokoeliyanto/ppp/main/dataset/Sales_October_2019.csv\")\n",
        "df11=pd.read_csv(\"https://raw.githubusercontent.com/jokoeliyanto/ppp/main/dataset/Sales_November_2019.csv\")\n",
        "df12=pd.read_csv(\"https://raw.githubusercontent.com/jokoeliyanto/ppp/main/dataset/Sales_December_2019.csv\")"
      ],
      "id": "tyRm0SJLJ5ov",
      "execution_count": 3,
      "outputs": []
    },
    {
      "cell_type": "code",
      "metadata": {
        "id": "z5tZ9DIYJ5ow"
      },
      "source": [
        "# Create a list containing all dataframes\n",
        "list_df_month=[df1,df2,df3,df4,df5,df6,df7,df8,df9,df10,df11,df12]"
      ],
      "id": "z5tZ9DIYJ5ow",
      "execution_count": 4,
      "outputs": []
    },
    {
      "cell_type": "code",
      "metadata": {
        "colab": {
          "base_uri": "https://localhost:8080/"
        },
        "id": "MF271DTMJ5ox",
        "outputId": "4aaf8747-d338-47b7-f6b1-8a5f4371184a"
      },
      "source": [
        "# View the size of each dataframe\n",
        "for i in list_df_month:\n",
        "    print(i.shape)"
      ],
      "id": "MF271DTMJ5ox",
      "execution_count": 5,
      "outputs": [
        {
          "output_type": "stream",
          "text": [
            "(9723, 6)\n",
            "(12036, 6)\n",
            "(15226, 6)\n",
            "(18383, 6)\n",
            "(16635, 6)\n",
            "(13622, 6)\n",
            "(14371, 6)\n",
            "(12011, 6)\n",
            "(11686, 6)\n",
            "(20379, 6)\n",
            "(17661, 6)\n",
            "(25117, 6)\n"
          ],
          "name": "stdout"
        }
      ]
    },
    {
      "cell_type": "markdown",
      "metadata": {
        "id": "tZeGqMYrJ5oy"
      },
      "source": [
        "Each dataframe has the same number of columns so it can be combined by the method `.concat()`"
      ],
      "id": "tZeGqMYrJ5oy"
    },
    {
      "cell_type": "markdown",
      "metadata": {
        "id": "k0KXDr8CJ5oy"
      },
      "source": [
        "### Combining Dataset"
      ],
      "id": "k0KXDr8CJ5oy"
    },
    {
      "cell_type": "code",
      "metadata": {
        "colab": {
          "base_uri": "https://localhost:8080/",
          "height": 202
        },
        "id": "ANfRrdB9J5oz",
        "outputId": "f2ffdc97-28d1-4468-ff00-6dbe6d691a2d"
      },
      "source": [
        "# Combining datasets with methods .concat()\n",
        "df=pd.concat(list_df_month)\n",
        "df.head()"
      ],
      "id": "ANfRrdB9J5oz",
      "execution_count": 6,
      "outputs": [
        {
          "output_type": "execute_result",
          "data": {
            "text/html": [
              "<div>\n",
              "<style scoped>\n",
              "    .dataframe tbody tr th:only-of-type {\n",
              "        vertical-align: middle;\n",
              "    }\n",
              "\n",
              "    .dataframe tbody tr th {\n",
              "        vertical-align: top;\n",
              "    }\n",
              "\n",
              "    .dataframe thead th {\n",
              "        text-align: right;\n",
              "    }\n",
              "</style>\n",
              "<table border=\"1\" class=\"dataframe\">\n",
              "  <thead>\n",
              "    <tr style=\"text-align: right;\">\n",
              "      <th></th>\n",
              "      <th>Order ID</th>\n",
              "      <th>Product</th>\n",
              "      <th>Quantity Ordered</th>\n",
              "      <th>Price Each</th>\n",
              "      <th>Order Date</th>\n",
              "      <th>Purchase Address</th>\n",
              "    </tr>\n",
              "  </thead>\n",
              "  <tbody>\n",
              "    <tr>\n",
              "      <th>0</th>\n",
              "      <td>141234</td>\n",
              "      <td>iPhone</td>\n",
              "      <td>1</td>\n",
              "      <td>700</td>\n",
              "      <td>01/22/19 21:25</td>\n",
              "      <td>944 Walnut St, Boston, MA 02215</td>\n",
              "    </tr>\n",
              "    <tr>\n",
              "      <th>1</th>\n",
              "      <td>141235</td>\n",
              "      <td>Lightning Charging Cable</td>\n",
              "      <td>1</td>\n",
              "      <td>14.95</td>\n",
              "      <td>01/28/19 14:15</td>\n",
              "      <td>185 Maple St, Portland, OR 97035</td>\n",
              "    </tr>\n",
              "    <tr>\n",
              "      <th>2</th>\n",
              "      <td>141236</td>\n",
              "      <td>Wired Headphones</td>\n",
              "      <td>2</td>\n",
              "      <td>11.99</td>\n",
              "      <td>01/17/19 13:33</td>\n",
              "      <td>538 Adams St, San Francisco, CA 94016</td>\n",
              "    </tr>\n",
              "    <tr>\n",
              "      <th>3</th>\n",
              "      <td>141237</td>\n",
              "      <td>27in FHD Monitor</td>\n",
              "      <td>1</td>\n",
              "      <td>149.99</td>\n",
              "      <td>01/05/19 20:33</td>\n",
              "      <td>738 10th St, Los Angeles, CA 90001</td>\n",
              "    </tr>\n",
              "    <tr>\n",
              "      <th>4</th>\n",
              "      <td>141238</td>\n",
              "      <td>Wired Headphones</td>\n",
              "      <td>1</td>\n",
              "      <td>11.99</td>\n",
              "      <td>01/25/19 11:59</td>\n",
              "      <td>387 10th St, Austin, TX 73301</td>\n",
              "    </tr>\n",
              "  </tbody>\n",
              "</table>\n",
              "</div>"
            ],
            "text/plain": [
              "  Order ID  ...                       Purchase Address\n",
              "0   141234  ...        944 Walnut St, Boston, MA 02215\n",
              "1   141235  ...       185 Maple St, Portland, OR 97035\n",
              "2   141236  ...  538 Adams St, San Francisco, CA 94016\n",
              "3   141237  ...     738 10th St, Los Angeles, CA 90001\n",
              "4   141238  ...          387 10th St, Austin, TX 73301\n",
              "\n",
              "[5 rows x 6 columns]"
            ]
          },
          "metadata": {
            "tags": []
          },
          "execution_count": 6
        }
      ]
    },
    {
      "cell_type": "markdown",
      "metadata": {
        "id": "NwUE-FCAJ5oz"
      },
      "source": [
        "### Dataset Initial Information"
      ],
      "id": "NwUE-FCAJ5oz"
    },
    {
      "cell_type": "code",
      "metadata": {
        "colab": {
          "base_uri": "https://localhost:8080/"
        },
        "id": "zxXJxin8J5o0",
        "outputId": "3cfee3b7-25a8-4101-f366-12b0c2113dea"
      },
      "source": [
        "df.info()"
      ],
      "id": "zxXJxin8J5o0",
      "execution_count": 7,
      "outputs": [
        {
          "output_type": "stream",
          "text": [
            "<class 'pandas.core.frame.DataFrame'>\n",
            "Int64Index: 186850 entries, 0 to 25116\n",
            "Data columns (total 6 columns):\n",
            " #   Column            Non-Null Count   Dtype \n",
            "---  ------            --------------   ----- \n",
            " 0   Order ID          186305 non-null  object\n",
            " 1   Product           186305 non-null  object\n",
            " 2   Quantity Ordered  186305 non-null  object\n",
            " 3   Price Each        186305 non-null  object\n",
            " 4   Order Date        186305 non-null  object\n",
            " 5   Purchase Address  186305 non-null  object\n",
            "dtypes: object(6)\n",
            "memory usage: 10.0+ MB\n"
          ],
          "name": "stdout"
        }
      ]
    },
    {
      "cell_type": "markdown",
      "metadata": {
        "id": "PDX52QoAJ5o0"
      },
      "source": [
        "## Check and Remove `Missing Value`"
      ],
      "id": "PDX52QoAJ5o0"
    },
    {
      "cell_type": "code",
      "metadata": {
        "colab": {
          "base_uri": "https://localhost:8080/"
        },
        "id": "5XjqWFqGJ5o1",
        "outputId": "eca4fccf-af4d-4053-f247-0d5fef015c62"
      },
      "source": [
        "# Check the amount of missing values in each column\n",
        "df.isnull().sum()"
      ],
      "id": "5XjqWFqGJ5o1",
      "execution_count": 8,
      "outputs": [
        {
          "output_type": "execute_result",
          "data": {
            "text/plain": [
              "Order ID            545\n",
              "Product             545\n",
              "Quantity Ordered    545\n",
              "Price Each          545\n",
              "Order Date          545\n",
              "Purchase Address    545\n",
              "dtype: int64"
            ]
          },
          "metadata": {
            "tags": []
          },
          "execution_count": 8
        }
      ]
    },
    {
      "cell_type": "code",
      "metadata": {
        "colab": {
          "base_uri": "https://localhost:8080/"
        },
        "id": "LJI7SmWAJ5o1",
        "outputId": "92963e63-24c0-466f-b0b3-ba81ed18ce36"
      },
      "source": [
        "# Calculate the percentage of missing value\n",
        "(df.isnull().sum().sum())/len(df)*100 "
      ],
      "id": "LJI7SmWAJ5o1",
      "execution_count": 9,
      "outputs": [
        {
          "output_type": "execute_result",
          "data": {
            "text/plain": [
              "1.75006689858175"
            ]
          },
          "metadata": {
            "tags": []
          },
          "execution_count": 9
        }
      ]
    },
    {
      "cell_type": "markdown",
      "metadata": {
        "id": "7oeHw8MSJ5o1"
      },
      "source": [
        "The datasets have 1.75% missing value"
      ],
      "id": "7oeHw8MSJ5o1"
    },
    {
      "cell_type": "code",
      "metadata": {
        "colab": {
          "base_uri": "https://localhost:8080/"
        },
        "id": "Ms2y-bVrJ5o1",
        "outputId": "b22a136f-73d9-4a18-cd98-9ba2dfc116f4"
      },
      "source": [
        "# Remove missing values\n",
        "df=df.dropna()\n",
        "\n",
        "# Check the missing value of each column\n",
        "df.isnull().sum()"
      ],
      "id": "Ms2y-bVrJ5o1",
      "execution_count": 10,
      "outputs": [
        {
          "output_type": "execute_result",
          "data": {
            "text/plain": [
              "Order ID            0\n",
              "Product             0\n",
              "Quantity Ordered    0\n",
              "Price Each          0\n",
              "Order Date          0\n",
              "Purchase Address    0\n",
              "dtype: int64"
            ]
          },
          "metadata": {
            "tags": []
          },
          "execution_count": 10
        }
      ]
    },
    {
      "cell_type": "markdown",
      "metadata": {
        "id": "zJ8X1HIrJ5o2"
      },
      "source": [
        "Missing value has been deleted successfully"
      ],
      "id": "zJ8X1HIrJ5o2"
    },
    {
      "cell_type": "markdown",
      "metadata": {
        "id": "GPaBsDBeJ5o3"
      },
      "source": [
        "## Remove Unnecessary Data"
      ],
      "id": "GPaBsDBeJ5o3"
    },
    {
      "cell_type": "markdown",
      "metadata": {
        "id": "tlsHfcj1J5o4"
      },
      "source": [
        "There are interesting findings, namely data rows containing column names, then these data must be deleted (drop)"
      ],
      "id": "tlsHfcj1J5o4"
    },
    {
      "cell_type": "code",
      "metadata": {
        "colab": {
          "base_uri": "https://localhost:8080/"
        },
        "id": "0Pk1INSaJ5o5",
        "outputId": "afa155ce-8aac-4d04-bd45-d6ab1ee0aba8"
      },
      "source": [
        "df.iloc[1069,::]"
      ],
      "id": "0Pk1INSaJ5o5",
      "execution_count": 11,
      "outputs": [
        {
          "output_type": "execute_result",
          "data": {
            "text/plain": [
              "Order ID                    Order ID\n",
              "Product                      Product\n",
              "Quantity Ordered    Quantity Ordered\n",
              "Price Each                Price Each\n",
              "Order Date                Order Date\n",
              "Purchase Address    Purchase Address\n",
              "Name: 1073, dtype: object"
            ]
          },
          "metadata": {
            "tags": []
          },
          "execution_count": 11
        }
      ]
    },
    {
      "cell_type": "code",
      "metadata": {
        "colab": {
          "base_uri": "https://localhost:8080/",
          "height": 415
        },
        "id": "plqDhJrdJ5o5",
        "outputId": "17b4260c-0de9-4f8b-beeb-50dbdd84b655"
      },
      "source": [
        "df.drop(df[df['Order Date']=='Order Date'].index, inplace=True)\n",
        "df"
      ],
      "id": "plqDhJrdJ5o5",
      "execution_count": 12,
      "outputs": [
        {
          "output_type": "execute_result",
          "data": {
            "text/html": [
              "<div>\n",
              "<style scoped>\n",
              "    .dataframe tbody tr th:only-of-type {\n",
              "        vertical-align: middle;\n",
              "    }\n",
              "\n",
              "    .dataframe tbody tr th {\n",
              "        vertical-align: top;\n",
              "    }\n",
              "\n",
              "    .dataframe thead th {\n",
              "        text-align: right;\n",
              "    }\n",
              "</style>\n",
              "<table border=\"1\" class=\"dataframe\">\n",
              "  <thead>\n",
              "    <tr style=\"text-align: right;\">\n",
              "      <th></th>\n",
              "      <th>Order ID</th>\n",
              "      <th>Product</th>\n",
              "      <th>Quantity Ordered</th>\n",
              "      <th>Price Each</th>\n",
              "      <th>Order Date</th>\n",
              "      <th>Purchase Address</th>\n",
              "    </tr>\n",
              "  </thead>\n",
              "  <tbody>\n",
              "    <tr>\n",
              "      <th>0</th>\n",
              "      <td>141234</td>\n",
              "      <td>iPhone</td>\n",
              "      <td>1</td>\n",
              "      <td>700</td>\n",
              "      <td>01/22/19 21:25</td>\n",
              "      <td>944 Walnut St, Boston, MA 02215</td>\n",
              "    </tr>\n",
              "    <tr>\n",
              "      <th>1</th>\n",
              "      <td>141235</td>\n",
              "      <td>Lightning Charging Cable</td>\n",
              "      <td>1</td>\n",
              "      <td>14.95</td>\n",
              "      <td>01/28/19 14:15</td>\n",
              "      <td>185 Maple St, Portland, OR 97035</td>\n",
              "    </tr>\n",
              "    <tr>\n",
              "      <th>2</th>\n",
              "      <td>141236</td>\n",
              "      <td>Wired Headphones</td>\n",
              "      <td>2</td>\n",
              "      <td>11.99</td>\n",
              "      <td>01/17/19 13:33</td>\n",
              "      <td>538 Adams St, San Francisco, CA 94016</td>\n",
              "    </tr>\n",
              "    <tr>\n",
              "      <th>3</th>\n",
              "      <td>141237</td>\n",
              "      <td>27in FHD Monitor</td>\n",
              "      <td>1</td>\n",
              "      <td>149.99</td>\n",
              "      <td>01/05/19 20:33</td>\n",
              "      <td>738 10th St, Los Angeles, CA 90001</td>\n",
              "    </tr>\n",
              "    <tr>\n",
              "      <th>4</th>\n",
              "      <td>141238</td>\n",
              "      <td>Wired Headphones</td>\n",
              "      <td>1</td>\n",
              "      <td>11.99</td>\n",
              "      <td>01/25/19 11:59</td>\n",
              "      <td>387 10th St, Austin, TX 73301</td>\n",
              "    </tr>\n",
              "    <tr>\n",
              "      <th>...</th>\n",
              "      <td>...</td>\n",
              "      <td>...</td>\n",
              "      <td>...</td>\n",
              "      <td>...</td>\n",
              "      <td>...</td>\n",
              "      <td>...</td>\n",
              "    </tr>\n",
              "    <tr>\n",
              "      <th>25112</th>\n",
              "      <td>319666</td>\n",
              "      <td>Lightning Charging Cable</td>\n",
              "      <td>1</td>\n",
              "      <td>14.95</td>\n",
              "      <td>12/11/19 20:58</td>\n",
              "      <td>14 Madison St, San Francisco, CA 94016</td>\n",
              "    </tr>\n",
              "    <tr>\n",
              "      <th>25113</th>\n",
              "      <td>319667</td>\n",
              "      <td>AA Batteries (4-pack)</td>\n",
              "      <td>2</td>\n",
              "      <td>3.84</td>\n",
              "      <td>12/01/19 12:01</td>\n",
              "      <td>549 Willow St, Los Angeles, CA 90001</td>\n",
              "    </tr>\n",
              "    <tr>\n",
              "      <th>25114</th>\n",
              "      <td>319668</td>\n",
              "      <td>Vareebadd Phone</td>\n",
              "      <td>1</td>\n",
              "      <td>400</td>\n",
              "      <td>12/09/19 06:43</td>\n",
              "      <td>273 Wilson St, Seattle, WA 98101</td>\n",
              "    </tr>\n",
              "    <tr>\n",
              "      <th>25115</th>\n",
              "      <td>319669</td>\n",
              "      <td>Wired Headphones</td>\n",
              "      <td>1</td>\n",
              "      <td>11.99</td>\n",
              "      <td>12/03/19 10:39</td>\n",
              "      <td>778 River St, Dallas, TX 75001</td>\n",
              "    </tr>\n",
              "    <tr>\n",
              "      <th>25116</th>\n",
              "      <td>319670</td>\n",
              "      <td>Bose SoundSport Headphones</td>\n",
              "      <td>1</td>\n",
              "      <td>99.99</td>\n",
              "      <td>12/21/19 21:45</td>\n",
              "      <td>747 Chestnut St, Los Angeles, CA 90001</td>\n",
              "    </tr>\n",
              "  </tbody>\n",
              "</table>\n",
              "<p>182735 rows × 6 columns</p>\n",
              "</div>"
            ],
            "text/plain": [
              "      Order ID  ...                        Purchase Address\n",
              "0       141234  ...         944 Walnut St, Boston, MA 02215\n",
              "1       141235  ...        185 Maple St, Portland, OR 97035\n",
              "2       141236  ...   538 Adams St, San Francisco, CA 94016\n",
              "3       141237  ...      738 10th St, Los Angeles, CA 90001\n",
              "4       141238  ...           387 10th St, Austin, TX 73301\n",
              "...        ...  ...                                     ...\n",
              "25112   319666  ...  14 Madison St, San Francisco, CA 94016\n",
              "25113   319667  ...    549 Willow St, Los Angeles, CA 90001\n",
              "25114   319668  ...        273 Wilson St, Seattle, WA 98101\n",
              "25115   319669  ...          778 River St, Dallas, TX 75001\n",
              "25116   319670  ...  747 Chestnut St, Los Angeles, CA 90001\n",
              "\n",
              "[182735 rows x 6 columns]"
            ]
          },
          "metadata": {
            "tags": []
          },
          "execution_count": 12
        }
      ]
    },
    {
      "cell_type": "markdown",
      "metadata": {
        "id": "MIip3AHgJ5o7"
      },
      "source": [
        "## Changing Column Data Type"
      ],
      "id": "MIip3AHgJ5o7"
    },
    {
      "cell_type": "code",
      "metadata": {
        "colab": {
          "base_uri": "https://localhost:8080/"
        },
        "id": "t3cc8aChJ5o8",
        "outputId": "d412f3e8-73f6-4ff9-e1c2-2678db5b390a"
      },
      "source": [
        "df.info()"
      ],
      "id": "t3cc8aChJ5o8",
      "execution_count": 13,
      "outputs": [
        {
          "output_type": "stream",
          "text": [
            "<class 'pandas.core.frame.DataFrame'>\n",
            "Int64Index: 182735 entries, 0 to 25116\n",
            "Data columns (total 6 columns):\n",
            " #   Column            Non-Null Count   Dtype \n",
            "---  ------            --------------   ----- \n",
            " 0   Order ID          182735 non-null  object\n",
            " 1   Product           182735 non-null  object\n",
            " 2   Quantity Ordered  182735 non-null  object\n",
            " 3   Price Each        182735 non-null  object\n",
            " 4   Order Date        182735 non-null  object\n",
            " 5   Purchase Address  182735 non-null  object\n",
            "dtypes: object(6)\n",
            "memory usage: 9.8+ MB\n"
          ],
          "name": "stdout"
        }
      ]
    },
    {
      "cell_type": "markdown",
      "metadata": {
        "id": "RznitKnBJ5o9"
      },
      "source": [
        "Will change the data type of the `Quantity Ordered` column to `int` and the `Price Each` column to `float`."
      ],
      "id": "RznitKnBJ5o9"
    },
    {
      "cell_type": "code",
      "metadata": {
        "colab": {
          "base_uri": "https://localhost:8080/"
        },
        "id": "H3ERxQ-xJ5o9",
        "outputId": "45047b20-18df-4786-a33c-8d459f1fa3df"
      },
      "source": [
        "df['Quantity Ordered']=df['Quantity Ordered'].astype('int')\n",
        "df['Price Each']=df['Price Each'].astype('float')\n",
        "\n",
        "df.info()"
      ],
      "id": "H3ERxQ-xJ5o9",
      "execution_count": 14,
      "outputs": [
        {
          "output_type": "stream",
          "text": [
            "<class 'pandas.core.frame.DataFrame'>\n",
            "Int64Index: 182735 entries, 0 to 25116\n",
            "Data columns (total 6 columns):\n",
            " #   Column            Non-Null Count   Dtype  \n",
            "---  ------            --------------   -----  \n",
            " 0   Order ID          182735 non-null  object \n",
            " 1   Product           182735 non-null  object \n",
            " 2   Quantity Ordered  182735 non-null  int64  \n",
            " 3   Price Each        182735 non-null  float64\n",
            " 4   Order Date        182735 non-null  object \n",
            " 5   Purchase Address  182735 non-null  object \n",
            "dtypes: float64(1), int64(1), object(4)\n",
            "memory usage: 9.8+ MB\n"
          ],
          "name": "stdout"
        }
      ]
    },
    {
      "cell_type": "markdown",
      "metadata": {
        "id": "aDV25JqfJ5o_"
      },
      "source": [
        "Then the data format of the `Order Date` column will be corrected to be of type `datetime64[ns]`"
      ],
      "id": "aDV25JqfJ5o_"
    },
    {
      "cell_type": "code",
      "metadata": {
        "colab": {
          "base_uri": "https://localhost:8080/",
          "height": 415
        },
        "id": "Faw_SXpPJ5o_",
        "outputId": "a78eb1b5-90d5-4e74-c248-ae86d74697f6"
      },
      "source": [
        "# Fixed year numbers\n",
        "df = df.replace('/19 ','/2019 ', regex=True)\n",
        "df = df.replace('/20 ','/2020 ', regex=True)\n",
        "df"
      ],
      "id": "Faw_SXpPJ5o_",
      "execution_count": 15,
      "outputs": [
        {
          "output_type": "execute_result",
          "data": {
            "text/html": [
              "<div>\n",
              "<style scoped>\n",
              "    .dataframe tbody tr th:only-of-type {\n",
              "        vertical-align: middle;\n",
              "    }\n",
              "\n",
              "    .dataframe tbody tr th {\n",
              "        vertical-align: top;\n",
              "    }\n",
              "\n",
              "    .dataframe thead th {\n",
              "        text-align: right;\n",
              "    }\n",
              "</style>\n",
              "<table border=\"1\" class=\"dataframe\">\n",
              "  <thead>\n",
              "    <tr style=\"text-align: right;\">\n",
              "      <th></th>\n",
              "      <th>Order ID</th>\n",
              "      <th>Product</th>\n",
              "      <th>Quantity Ordered</th>\n",
              "      <th>Price Each</th>\n",
              "      <th>Order Date</th>\n",
              "      <th>Purchase Address</th>\n",
              "    </tr>\n",
              "  </thead>\n",
              "  <tbody>\n",
              "    <tr>\n",
              "      <th>0</th>\n",
              "      <td>141234</td>\n",
              "      <td>iPhone</td>\n",
              "      <td>1</td>\n",
              "      <td>700.00</td>\n",
              "      <td>01/22/2019 21:25</td>\n",
              "      <td>944 Walnut St, Boston, MA 02215</td>\n",
              "    </tr>\n",
              "    <tr>\n",
              "      <th>1</th>\n",
              "      <td>141235</td>\n",
              "      <td>Lightning Charging Cable</td>\n",
              "      <td>1</td>\n",
              "      <td>14.95</td>\n",
              "      <td>01/28/2019 14:15</td>\n",
              "      <td>185 Maple St, Portland, OR 97035</td>\n",
              "    </tr>\n",
              "    <tr>\n",
              "      <th>2</th>\n",
              "      <td>141236</td>\n",
              "      <td>Wired Headphones</td>\n",
              "      <td>2</td>\n",
              "      <td>11.99</td>\n",
              "      <td>01/17/2019 13:33</td>\n",
              "      <td>538 Adams St, San Francisco, CA 94016</td>\n",
              "    </tr>\n",
              "    <tr>\n",
              "      <th>3</th>\n",
              "      <td>141237</td>\n",
              "      <td>27in FHD Monitor</td>\n",
              "      <td>1</td>\n",
              "      <td>149.99</td>\n",
              "      <td>01/05/2019 20:33</td>\n",
              "      <td>738 10th St, Los Angeles, CA 90001</td>\n",
              "    </tr>\n",
              "    <tr>\n",
              "      <th>4</th>\n",
              "      <td>141238</td>\n",
              "      <td>Wired Headphones</td>\n",
              "      <td>1</td>\n",
              "      <td>11.99</td>\n",
              "      <td>01/25/2019 11:59</td>\n",
              "      <td>387 10th St, Austin, TX 73301</td>\n",
              "    </tr>\n",
              "    <tr>\n",
              "      <th>...</th>\n",
              "      <td>...</td>\n",
              "      <td>...</td>\n",
              "      <td>...</td>\n",
              "      <td>...</td>\n",
              "      <td>...</td>\n",
              "      <td>...</td>\n",
              "    </tr>\n",
              "    <tr>\n",
              "      <th>25112</th>\n",
              "      <td>319666</td>\n",
              "      <td>Lightning Charging Cable</td>\n",
              "      <td>1</td>\n",
              "      <td>14.95</td>\n",
              "      <td>12/11/2019 20:58</td>\n",
              "      <td>14 Madison St, San Francisco, CA 94016</td>\n",
              "    </tr>\n",
              "    <tr>\n",
              "      <th>25113</th>\n",
              "      <td>319667</td>\n",
              "      <td>AA Batteries (4-pack)</td>\n",
              "      <td>2</td>\n",
              "      <td>3.84</td>\n",
              "      <td>12/01/2019 12:01</td>\n",
              "      <td>549 Willow St, Los Angeles, CA 90001</td>\n",
              "    </tr>\n",
              "    <tr>\n",
              "      <th>25114</th>\n",
              "      <td>319668</td>\n",
              "      <td>Vareebadd Phone</td>\n",
              "      <td>1</td>\n",
              "      <td>400.00</td>\n",
              "      <td>12/09/2019 06:43</td>\n",
              "      <td>273 Wilson St, Seattle, WA 98101</td>\n",
              "    </tr>\n",
              "    <tr>\n",
              "      <th>25115</th>\n",
              "      <td>319669</td>\n",
              "      <td>Wired Headphones</td>\n",
              "      <td>1</td>\n",
              "      <td>11.99</td>\n",
              "      <td>12/03/2019 10:39</td>\n",
              "      <td>778 River St, Dallas, TX 75001</td>\n",
              "    </tr>\n",
              "    <tr>\n",
              "      <th>25116</th>\n",
              "      <td>319670</td>\n",
              "      <td>Bose SoundSport Headphones</td>\n",
              "      <td>1</td>\n",
              "      <td>99.99</td>\n",
              "      <td>12/21/2019 21:45</td>\n",
              "      <td>747 Chestnut St, Los Angeles, CA 90001</td>\n",
              "    </tr>\n",
              "  </tbody>\n",
              "</table>\n",
              "<p>182735 rows × 6 columns</p>\n",
              "</div>"
            ],
            "text/plain": [
              "      Order ID  ...                        Purchase Address\n",
              "0       141234  ...         944 Walnut St, Boston, MA 02215\n",
              "1       141235  ...        185 Maple St, Portland, OR 97035\n",
              "2       141236  ...   538 Adams St, San Francisco, CA 94016\n",
              "3       141237  ...      738 10th St, Los Angeles, CA 90001\n",
              "4       141238  ...           387 10th St, Austin, TX 73301\n",
              "...        ...  ...                                     ...\n",
              "25112   319666  ...  14 Madison St, San Francisco, CA 94016\n",
              "25113   319667  ...    549 Willow St, Los Angeles, CA 90001\n",
              "25114   319668  ...        273 Wilson St, Seattle, WA 98101\n",
              "25115   319669  ...          778 River St, Dallas, TX 75001\n",
              "25116   319670  ...  747 Chestnut St, Los Angeles, CA 90001\n",
              "\n",
              "[182735 rows x 6 columns]"
            ]
          },
          "metadata": {
            "tags": []
          },
          "execution_count": 15
        }
      ]
    },
    {
      "cell_type": "code",
      "metadata": {
        "colab": {
          "base_uri": "https://localhost:8080/"
        },
        "id": "y0dYziosJ5o_",
        "outputId": "0ebc77ea-a086-4868-abcd-5d250bcc8086"
      },
      "source": [
        "# Convert Order Date column to datetime64[ns]\n",
        "df['Order Date']=pd.to_datetime(df['Order Date'], format=\"%m/%d/%Y %H:%M\")\n",
        "df.info()"
      ],
      "id": "y0dYziosJ5o_",
      "execution_count": 16,
      "outputs": [
        {
          "output_type": "stream",
          "text": [
            "<class 'pandas.core.frame.DataFrame'>\n",
            "Int64Index: 182735 entries, 0 to 25116\n",
            "Data columns (total 6 columns):\n",
            " #   Column            Non-Null Count   Dtype         \n",
            "---  ------            --------------   -----         \n",
            " 0   Order ID          182735 non-null  object        \n",
            " 1   Product           182735 non-null  object        \n",
            " 2   Quantity Ordered  182735 non-null  int64         \n",
            " 3   Price Each        182735 non-null  float64       \n",
            " 4   Order Date        182735 non-null  datetime64[ns]\n",
            " 5   Purchase Address  182735 non-null  object        \n",
            "dtypes: datetime64[ns](1), float64(1), int64(1), object(3)\n",
            "memory usage: 9.8+ MB\n"
          ],
          "name": "stdout"
        }
      ]
    },
    {
      "cell_type": "markdown",
      "metadata": {
        "id": "lkTM25sDJ5pA"
      },
      "source": [
        "# Data Analysis"
      ],
      "id": "lkTM25sDJ5pA"
    },
    {
      "cell_type": "markdown",
      "metadata": {
        "id": "25jwPux7J5pA"
      },
      "source": [
        "**1. What month did you get the highest and lowest sales each year? How much income was earned at that time?**"
      ],
      "id": "25jwPux7J5pA"
    },
    {
      "cell_type": "markdown",
      "metadata": {
        "id": "dD_SdeomJ5pA"
      },
      "source": [
        "Add a new column, namely the `Sales` column which is the correlation between the `Quantity Ordered` and `Price Each` columns"
      ],
      "id": "dD_SdeomJ5pA"
    },
    {
      "cell_type": "code",
      "metadata": {
        "colab": {
          "base_uri": "https://localhost:8080/",
          "height": 202
        },
        "id": "lqhp7z3KJ5pA",
        "outputId": "900c77bf-de94-4687-820d-6d2fa070135a"
      },
      "source": [
        "df['Sales']=df['Quantity Ordered'] * df['Price Each']\n",
        "df.head()"
      ],
      "id": "lqhp7z3KJ5pA",
      "execution_count": 17,
      "outputs": [
        {
          "output_type": "execute_result",
          "data": {
            "text/html": [
              "<div>\n",
              "<style scoped>\n",
              "    .dataframe tbody tr th:only-of-type {\n",
              "        vertical-align: middle;\n",
              "    }\n",
              "\n",
              "    .dataframe tbody tr th {\n",
              "        vertical-align: top;\n",
              "    }\n",
              "\n",
              "    .dataframe thead th {\n",
              "        text-align: right;\n",
              "    }\n",
              "</style>\n",
              "<table border=\"1\" class=\"dataframe\">\n",
              "  <thead>\n",
              "    <tr style=\"text-align: right;\">\n",
              "      <th></th>\n",
              "      <th>Order ID</th>\n",
              "      <th>Product</th>\n",
              "      <th>Quantity Ordered</th>\n",
              "      <th>Price Each</th>\n",
              "      <th>Order Date</th>\n",
              "      <th>Purchase Address</th>\n",
              "      <th>Sales</th>\n",
              "    </tr>\n",
              "  </thead>\n",
              "  <tbody>\n",
              "    <tr>\n",
              "      <th>0</th>\n",
              "      <td>141234</td>\n",
              "      <td>iPhone</td>\n",
              "      <td>1</td>\n",
              "      <td>700.00</td>\n",
              "      <td>2019-01-22 21:25:00</td>\n",
              "      <td>944 Walnut St, Boston, MA 02215</td>\n",
              "      <td>700.00</td>\n",
              "    </tr>\n",
              "    <tr>\n",
              "      <th>1</th>\n",
              "      <td>141235</td>\n",
              "      <td>Lightning Charging Cable</td>\n",
              "      <td>1</td>\n",
              "      <td>14.95</td>\n",
              "      <td>2019-01-28 14:15:00</td>\n",
              "      <td>185 Maple St, Portland, OR 97035</td>\n",
              "      <td>14.95</td>\n",
              "    </tr>\n",
              "    <tr>\n",
              "      <th>2</th>\n",
              "      <td>141236</td>\n",
              "      <td>Wired Headphones</td>\n",
              "      <td>2</td>\n",
              "      <td>11.99</td>\n",
              "      <td>2019-01-17 13:33:00</td>\n",
              "      <td>538 Adams St, San Francisco, CA 94016</td>\n",
              "      <td>23.98</td>\n",
              "    </tr>\n",
              "    <tr>\n",
              "      <th>3</th>\n",
              "      <td>141237</td>\n",
              "      <td>27in FHD Monitor</td>\n",
              "      <td>1</td>\n",
              "      <td>149.99</td>\n",
              "      <td>2019-01-05 20:33:00</td>\n",
              "      <td>738 10th St, Los Angeles, CA 90001</td>\n",
              "      <td>149.99</td>\n",
              "    </tr>\n",
              "    <tr>\n",
              "      <th>4</th>\n",
              "      <td>141238</td>\n",
              "      <td>Wired Headphones</td>\n",
              "      <td>1</td>\n",
              "      <td>11.99</td>\n",
              "      <td>2019-01-25 11:59:00</td>\n",
              "      <td>387 10th St, Austin, TX 73301</td>\n",
              "      <td>11.99</td>\n",
              "    </tr>\n",
              "  </tbody>\n",
              "</table>\n",
              "</div>"
            ],
            "text/plain": [
              "  Order ID  ...   Sales\n",
              "0   141234  ...  700.00\n",
              "1   141235  ...   14.95\n",
              "2   141236  ...   23.98\n",
              "3   141237  ...  149.99\n",
              "4   141238  ...   11.99\n",
              "\n",
              "[5 rows x 7 columns]"
            ]
          },
          "metadata": {
            "tags": []
          },
          "execution_count": 17
        }
      ]
    },
    {
      "cell_type": "markdown",
      "metadata": {
        "id": "xQt2VtwbJ5pB"
      },
      "source": [
        "Apply the `.groupby()` method to generate the number of sales each month"
      ],
      "id": "xQt2VtwbJ5pB"
    },
    {
      "cell_type": "code",
      "metadata": {
        "colab": {
          "base_uri": "https://localhost:8080/",
          "height": 417
        },
        "id": "UPnQXFvbJ5pB",
        "outputId": "aaa7500e-9d9b-4fbe-967b-1f339b00457f"
      },
      "source": [
        "monthly_sales = df.groupby(df['Order Date'].dt.month).agg({'Sales':sum}).reset_index()\n",
        "monthly_sales"
      ],
      "id": "UPnQXFvbJ5pB",
      "execution_count": 18,
      "outputs": [
        {
          "output_type": "execute_result",
          "data": {
            "text/html": [
              "<div>\n",
              "<style scoped>\n",
              "    .dataframe tbody tr th:only-of-type {\n",
              "        vertical-align: middle;\n",
              "    }\n",
              "\n",
              "    .dataframe tbody tr th {\n",
              "        vertical-align: top;\n",
              "    }\n",
              "\n",
              "    .dataframe thead th {\n",
              "        text-align: right;\n",
              "    }\n",
              "</style>\n",
              "<table border=\"1\" class=\"dataframe\">\n",
              "  <thead>\n",
              "    <tr style=\"text-align: right;\">\n",
              "      <th></th>\n",
              "      <th>Order Date</th>\n",
              "      <th>Sales</th>\n",
              "    </tr>\n",
              "  </thead>\n",
              "  <tbody>\n",
              "    <tr>\n",
              "      <th>0</th>\n",
              "      <td>1</td>\n",
              "      <td>1.786511e+06</td>\n",
              "    </tr>\n",
              "    <tr>\n",
              "      <th>1</th>\n",
              "      <td>2</td>\n",
              "      <td>2.158127e+06</td>\n",
              "    </tr>\n",
              "    <tr>\n",
              "      <th>2</th>\n",
              "      <td>3</td>\n",
              "      <td>2.755969e+06</td>\n",
              "    </tr>\n",
              "    <tr>\n",
              "      <th>3</th>\n",
              "      <td>4</td>\n",
              "      <td>3.336376e+06</td>\n",
              "    </tr>\n",
              "    <tr>\n",
              "      <th>4</th>\n",
              "      <td>5</td>\n",
              "      <td>3.101881e+06</td>\n",
              "    </tr>\n",
              "    <tr>\n",
              "      <th>5</th>\n",
              "      <td>6</td>\n",
              "      <td>2.524465e+06</td>\n",
              "    </tr>\n",
              "    <tr>\n",
              "      <th>6</th>\n",
              "      <td>7</td>\n",
              "      <td>2.587445e+06</td>\n",
              "    </tr>\n",
              "    <tr>\n",
              "      <th>7</th>\n",
              "      <td>8</td>\n",
              "      <td>2.191698e+06</td>\n",
              "    </tr>\n",
              "    <tr>\n",
              "      <th>8</th>\n",
              "      <td>9</td>\n",
              "      <td>2.050361e+06</td>\n",
              "    </tr>\n",
              "    <tr>\n",
              "      <th>9</th>\n",
              "      <td>10</td>\n",
              "      <td>3.679254e+06</td>\n",
              "    </tr>\n",
              "    <tr>\n",
              "      <th>10</th>\n",
              "      <td>11</td>\n",
              "      <td>3.149785e+06</td>\n",
              "    </tr>\n",
              "    <tr>\n",
              "      <th>11</th>\n",
              "      <td>12</td>\n",
              "      <td>4.557905e+06</td>\n",
              "    </tr>\n",
              "  </tbody>\n",
              "</table>\n",
              "</div>"
            ],
            "text/plain": [
              "    Order Date         Sales\n",
              "0            1  1.786511e+06\n",
              "1            2  2.158127e+06\n",
              "2            3  2.755969e+06\n",
              "3            4  3.336376e+06\n",
              "4            5  3.101881e+06\n",
              "5            6  2.524465e+06\n",
              "6            7  2.587445e+06\n",
              "7            8  2.191698e+06\n",
              "8            9  2.050361e+06\n",
              "9           10  3.679254e+06\n",
              "10          11  3.149785e+06\n",
              "11          12  4.557905e+06"
            ]
          },
          "metadata": {
            "tags": []
          },
          "execution_count": 18
        }
      ]
    },
    {
      "cell_type": "markdown",
      "metadata": {
        "id": "YzYOSftKJ5pB"
      },
      "source": [
        "Visualizing for monthly sales"
      ],
      "id": "YzYOSftKJ5pB"
    },
    {
      "cell_type": "code",
      "metadata": {
        "colab": {
          "base_uri": "https://localhost:8080/",
          "height": 374
        },
        "id": "c6I3wmMVJ5pC",
        "outputId": "ecd78ec8-6ca2-41b9-b71a-12451d4f1a87"
      },
      "source": [
        "fig, ax = plt.subplots()\n",
        "fig.set_size_inches(15, 5)\n",
        "ax.plot(monthly_sales['Order Date'], monthly_sales['Sales'],  marker='o')\n",
        "ax.set_title('Monthly Sales January 2019 - January 2020', loc='center', pad=20, fontsize=20, color='black')\n",
        "ax.set_xlabel('Month', fontsize=15)\n",
        "ax.set_ylabel('Total Sales (in Millions USD)', fontsize=15)\n",
        "ax.grid(color='darkgray', linestyle=':', linewidth=0.5)\n",
        "ax.set_xticks(monthly_sales['Order Date'])\n",
        "month_labels = ['January', 'February', 'March', 'Aprill', 'May', 'June', 'July', 'August', 'September', 'October', 'November', 'December']\n",
        "ax.set_xticklabels(month_labels)\n",
        "ax.text(0.81, 0.82, 'Max Sales', transform=fig.transFigure, color='green')\n",
        "ax.plot(monthly_sales.iloc[11,0],monthly_sales.iloc[11,1],   marker='s', color='green')\n",
        "ax.text(0.15, 0.22, 'Min Sales', transform=fig.transFigure, color='red')\n",
        "ax.plot(monthly_sales.iloc[0,0],monthly_sales.iloc[0,1],   marker='s', color='red')\n",
        "plt.show()"
      ],
      "id": "c6I3wmMVJ5pC",
      "execution_count": 19,
      "outputs": [
        {
          "output_type": "display_data",
          "data": {
            "image/png": "[encoded data removed]",
            "text/plain": [
              "<Figure size 1080x360 with 1 Axes>"
            ]
          },
          "metadata": {
            "tags": [],
            "needs_background": "light"
          }
        }
      ]
    },
    {
      "cell_type": "markdown",
      "metadata": {
        "id": "v2n_Pvi3J5pC"
      },
      "source": [
        "Based on the plot above, the answer is that:\n",
        "The month with the highest sales: **December**\n",
        "\n",
        "With the amount of sales in the month: **4,557,905 USD**\n",
        "\n",
        "This is retail data from the USA, so in December there was a peak in sales due to _Christmas and New Year's Day.\n",
        "\n",
        "Lowest selling month: **January**\n",
        "\n",
        "With total sales for the month: **1,786,511 USD**"
      ],
      "id": "v2n_Pvi3J5pC"
    },
    {
      "cell_type": "markdown",
      "metadata": {
        "id": "5vfoCFhjJ5pC"
      },
      "source": [
        "**2. Which city has the highest and lowest sales?**"
      ],
      "id": "5vfoCFhjJ5pC"
    },
    {
      "cell_type": "markdown",
      "metadata": {
        "id": "PlMXxOdVJ5pC"
      },
      "source": [
        "Added `City` column by taking city name from `Purchase Address` . field"
      ],
      "id": "PlMXxOdVJ5pC"
    },
    {
      "cell_type": "code",
      "metadata": {
        "colab": {
          "base_uri": "https://localhost:8080/",
          "height": 202
        },
        "id": "o2ATY3gOJ5pD",
        "outputId": "4e383505-0e36-4be1-e49d-cb8ee2b5168f"
      },
      "source": [
        "# Added City Column\n",
        "list_city = []\n",
        "for i in df['Purchase Address']:\n",
        "    list_city.append(i.split(\",\")[1])\n",
        "df['City'] = list_city\n",
        "df.head()"
      ],
      "id": "o2ATY3gOJ5pD",
      "execution_count": 20,
      "outputs": [
        {
          "output_type": "execute_result",
          "data": {
            "text/html": [
              "<div>\n",
              "<style scoped>\n",
              "    .dataframe tbody tr th:only-of-type {\n",
              "        vertical-align: middle;\n",
              "    }\n",
              "\n",
              "    .dataframe tbody tr th {\n",
              "        vertical-align: top;\n",
              "    }\n",
              "\n",
              "    .dataframe thead th {\n",
              "        text-align: right;\n",
              "    }\n",
              "</style>\n",
              "<table border=\"1\" class=\"dataframe\">\n",
              "  <thead>\n",
              "    <tr style=\"text-align: right;\">\n",
              "      <th></th>\n",
              "      <th>Order ID</th>\n",
              "      <th>Product</th>\n",
              "      <th>Quantity Ordered</th>\n",
              "      <th>Price Each</th>\n",
              "      <th>Order Date</th>\n",
              "      <th>Purchase Address</th>\n",
              "      <th>Sales</th>\n",
              "      <th>City</th>\n",
              "    </tr>\n",
              "  </thead>\n",
              "  <tbody>\n",
              "    <tr>\n",
              "      <th>0</th>\n",
              "      <td>141234</td>\n",
              "      <td>iPhone</td>\n",
              "      <td>1</td>\n",
              "      <td>700.00</td>\n",
              "      <td>2019-01-22 21:25:00</td>\n",
              "      <td>944 Walnut St, Boston, MA 02215</td>\n",
              "      <td>700.00</td>\n",
              "      <td>Boston</td>\n",
              "    </tr>\n",
              "    <tr>\n",
              "      <th>1</th>\n",
              "      <td>141235</td>\n",
              "      <td>Lightning Charging Cable</td>\n",
              "      <td>1</td>\n",
              "      <td>14.95</td>\n",
              "      <td>2019-01-28 14:15:00</td>\n",
              "      <td>185 Maple St, Portland, OR 97035</td>\n",
              "      <td>14.95</td>\n",
              "      <td>Portland</td>\n",
              "    </tr>\n",
              "    <tr>\n",
              "      <th>2</th>\n",
              "      <td>141236</td>\n",
              "      <td>Wired Headphones</td>\n",
              "      <td>2</td>\n",
              "      <td>11.99</td>\n",
              "      <td>2019-01-17 13:33:00</td>\n",
              "      <td>538 Adams St, San Francisco, CA 94016</td>\n",
              "      <td>23.98</td>\n",
              "      <td>San Francisco</td>\n",
              "    </tr>\n",
              "    <tr>\n",
              "      <th>3</th>\n",
              "      <td>141237</td>\n",
              "      <td>27in FHD Monitor</td>\n",
              "      <td>1</td>\n",
              "      <td>149.99</td>\n",
              "      <td>2019-01-05 20:33:00</td>\n",
              "      <td>738 10th St, Los Angeles, CA 90001</td>\n",
              "      <td>149.99</td>\n",
              "      <td>Los Angeles</td>\n",
              "    </tr>\n",
              "    <tr>\n",
              "      <th>4</th>\n",
              "      <td>141238</td>\n",
              "      <td>Wired Headphones</td>\n",
              "      <td>1</td>\n",
              "      <td>11.99</td>\n",
              "      <td>2019-01-25 11:59:00</td>\n",
              "      <td>387 10th St, Austin, TX 73301</td>\n",
              "      <td>11.99</td>\n",
              "      <td>Austin</td>\n",
              "    </tr>\n",
              "  </tbody>\n",
              "</table>\n",
              "</div>"
            ],
            "text/plain": [
              "  Order ID                   Product  ...   Sales            City\n",
              "0   141234                    iPhone  ...  700.00          Boston\n",
              "1   141235  Lightning Charging Cable  ...   14.95        Portland\n",
              "2   141236          Wired Headphones  ...   23.98   San Francisco\n",
              "3   141237          27in FHD Monitor  ...  149.99     Los Angeles\n",
              "4   141238          Wired Headphones  ...   11.99          Austin\n",
              "\n",
              "[5 rows x 8 columns]"
            ]
          },
          "metadata": {
            "tags": []
          },
          "execution_count": 20
        }
      ]
    },
    {
      "cell_type": "markdown",
      "metadata": {
        "id": "OmXrVfWmJ5pD"
      },
      "source": [
        "Apply the `.groupby()` method to generate the number of sales for each `City`"
      ],
      "id": "OmXrVfWmJ5pD"
    },
    {
      "cell_type": "code",
      "metadata": {
        "colab": {
          "base_uri": "https://localhost:8080/",
          "height": 356
        },
        "id": "yfKaI8qcJ5pD",
        "outputId": "759167c1-4738-430e-aca9-b1fc18e21d0c"
      },
      "source": [
        "city_sales=df.groupby([\"City\"])['Sales'].sum().sort_values(ascending=False)\n",
        "city_sales=city_sales.to_frame()\n",
        "city_sales"
      ],
      "id": "yfKaI8qcJ5pD",
      "execution_count": 21,
      "outputs": [
        {
          "output_type": "execute_result",
          "data": {
            "text/html": [
              "<div>\n",
              "<style scoped>\n",
              "    .dataframe tbody tr th:only-of-type {\n",
              "        vertical-align: middle;\n",
              "    }\n",
              "\n",
              "    .dataframe tbody tr th {\n",
              "        vertical-align: top;\n",
              "    }\n",
              "\n",
              "    .dataframe thead th {\n",
              "        text-align: right;\n",
              "    }\n",
              "</style>\n",
              "<table border=\"1\" class=\"dataframe\">\n",
              "  <thead>\n",
              "    <tr style=\"text-align: right;\">\n",
              "      <th></th>\n",
              "      <th>Sales</th>\n",
              "    </tr>\n",
              "    <tr>\n",
              "      <th>City</th>\n",
              "      <th></th>\n",
              "    </tr>\n",
              "  </thead>\n",
              "  <tbody>\n",
              "    <tr>\n",
              "      <th>San Francisco</th>\n",
              "      <td>8.124121e+06</td>\n",
              "    </tr>\n",
              "    <tr>\n",
              "      <th>Los Angeles</th>\n",
              "      <td>5.354040e+06</td>\n",
              "    </tr>\n",
              "    <tr>\n",
              "      <th>New York City</th>\n",
              "      <td>4.581659e+06</td>\n",
              "    </tr>\n",
              "    <tr>\n",
              "      <th>Boston</th>\n",
              "      <td>3.604081e+06</td>\n",
              "    </tr>\n",
              "    <tr>\n",
              "      <th>Atlanta</th>\n",
              "      <td>2.741642e+06</td>\n",
              "    </tr>\n",
              "    <tr>\n",
              "      <th>Dallas</th>\n",
              "      <td>2.717794e+06</td>\n",
              "    </tr>\n",
              "    <tr>\n",
              "      <th>Seattle</th>\n",
              "      <td>2.693049e+06</td>\n",
              "    </tr>\n",
              "    <tr>\n",
              "      <th>Portland</th>\n",
              "      <td>2.276649e+06</td>\n",
              "    </tr>\n",
              "    <tr>\n",
              "      <th>Austin</th>\n",
              "      <td>1.786746e+06</td>\n",
              "    </tr>\n",
              "  </tbody>\n",
              "</table>\n",
              "</div>"
            ],
            "text/plain": [
              "                       Sales\n",
              "City                        \n",
              " San Francisco  8.124121e+06\n",
              " Los Angeles    5.354040e+06\n",
              " New York City  4.581659e+06\n",
              " Boston         3.604081e+06\n",
              " Atlanta        2.741642e+06\n",
              " Dallas         2.717794e+06\n",
              " Seattle        2.693049e+06\n",
              " Portland       2.276649e+06\n",
              " Austin         1.786746e+06"
            ]
          },
          "metadata": {
            "tags": []
          },
          "execution_count": 21
        }
      ]
    },
    {
      "cell_type": "markdown",
      "metadata": {
        "id": "Qzbf_c2MJ5pD"
      },
      "source": [
        "Based on the results above, the City with the _Highest Sales_ is **San Francisco** with total sales **8,124,121 USD**\n",
        "\n",
        "while the City with _Lowest Sales_ is **Austin** with total sales **1,786,746 USD**"
      ],
      "id": "Qzbf_c2MJ5pD"
    },
    {
      "cell_type": "markdown",
      "metadata": {
        "id": "rBw5rNXvJ5pE"
      },
      "source": [
        "**3. Give recommendations on the right time to place your ad to maximize the possibility of buying the most consumers!**"
      ],
      "id": "rBw5rNXvJ5pE"
    },
    {
      "cell_type": "markdown",
      "metadata": {
        "id": "zIYRJ4adJ5pE"
      },
      "source": [
        "Apply the `.groupby()` method to generate average sales per hour"
      ],
      "id": "zIYRJ4adJ5pE"
    },
    {
      "cell_type": "code",
      "metadata": {
        "id": "edhtg3DlJ5pE"
      },
      "source": [
        "mean_hourly_sales = df.groupby(df['Order Date'].dt.hour).agg({'Sales':np.mean}).reset_index()"
      ],
      "id": "edhtg3DlJ5pE",
      "execution_count": 22,
      "outputs": []
    },
    {
      "cell_type": "code",
      "metadata": {
        "colab": {
          "base_uri": "https://localhost:8080/",
          "height": 374
        },
        "id": "OfZ3brmNJ5pE",
        "outputId": "b363e97c-fc80-4a52-aa6c-ff9aa301428c"
      },
      "source": [
        "fig, ax = plt.subplots()\n",
        "fig.set_size_inches(15, 5)\n",
        "ax.plot(mean_hourly_sales['Order Date'], mean_hourly_sales['Sales'],  marker='o')\n",
        "ax.set_title('Mean Hourly Sales Every Day', loc='center', pad=20, fontsize=20, color='black')\n",
        "ax.set_xlabel('Hour', fontsize=15)\n",
        "ax.set_ylabel('Total Sales (in Millions USD)', fontsize=15)\n",
        "ax.grid(color='darkgray', linestyle=':', linewidth=0.5)\n",
        "ax.set_xticks(mean_hourly_sales['Order Date'])\n",
        "time_list=np.arange(1,25)\n",
        "ax.set_xticklabels(time_list)\n",
        "plt.show()"
      ],
      "id": "OfZ3brmNJ5pE",
      "execution_count": 23,
      "outputs": [
        {
          "output_type": "display_data",
          "data": {
            "image/png": "[encoded data removed]",
            "text/plain": [
              "<Figure size 1080x360 with 1 Axes>"
            ]
          },
          "metadata": {
            "tags": [],
            "needs_background": "light"
          }
        }
      ]
    },
    {
      "cell_type": "markdown",
      "metadata": {
        "id": "pew0heCpJ5pF"
      },
      "source": [
        "Apply the `.groupby()` method to generate the number of sales per hour"
      ],
      "id": "pew0heCpJ5pF"
    },
    {
      "cell_type": "code",
      "metadata": {
        "id": "WNgUai2NJ5pF"
      },
      "source": [
        "total_hourly_sales = df.groupby(df['Order Date'].dt.hour).agg({'Sales':sum}).reset_index()"
      ],
      "id": "WNgUai2NJ5pF",
      "execution_count": 24,
      "outputs": []
    },
    {
      "cell_type": "code",
      "metadata": {
        "colab": {
          "base_uri": "https://localhost:8080/",
          "height": 374
        },
        "id": "47VykRgyJ5pG",
        "outputId": "41236502-e671-47a4-a326-ddd3038e0c7c"
      },
      "source": [
        "fig, ax = plt.subplots()\n",
        "fig.set_size_inches(15, 5)\n",
        "ax.plot(total_hourly_sales['Order Date'], total_hourly_sales['Sales'],  marker='o')\n",
        "ax.set_title('Total Hourly Sales Every Day', loc='center', pad=20, fontsize=20, color='black')\n",
        "ax.set_xlabel('Hour', fontsize=15)\n",
        "ax.set_ylabel('Total Sales (in Millions USD)', fontsize=15)\n",
        "ax.grid(color='darkgray', linestyle=':', linewidth=0.5)\n",
        "ax.set_xticks(total_hourly_sales['Order Date'])\n",
        "time_list=np.arange(1,25)\n",
        "ax.text(0.60, 0.60, 'Optimum Time for Advertising', transform=fig.transFigure, color='green')\n",
        "ax.plot(total_hourly_sales.iloc[10:22,0],total_hourly_sales.iloc[10:22,1],   marker='s', color='green')\n",
        "plt.show()"
      ],
      "id": "47VykRgyJ5pG",
      "execution_count": 25,
      "outputs": [
        {
          "output_type": "display_data",
          "data": {
            "image/png": "[encoded data removed]",
            "text/plain": [
              "<Figure size 1080x360 with 1 Axes>"
            ]
          },
          "metadata": {
            "tags": [],
            "needs_background": "light"
          }
        }
      ]
    },
    {
      "cell_type": "markdown",
      "metadata": {
        "id": "oFbu0_TkJ5pG"
      },
      "source": [
        "From the two visualizations above, and the previous monthly sales visualization, at certain times (Example: December, Christmas Day) then **the right time to maximize advertising is between 11 am to 10 pm.**"
      ],
      "id": "oFbu0_TkJ5pG"
    },
    {
      "cell_type": "markdown",
      "metadata": {
        "id": "hdsx9s9fJ5pG"
      },
      "source": [
        "**4. What products sell the most? What do you think is the reason?**"
      ],
      "id": "hdsx9s9fJ5pG"
    },
    {
      "cell_type": "markdown",
      "metadata": {
        "id": "y2DGB6BYJ5pH"
      },
      "source": [
        "Apply the `.groupby()` method to generate the sales amount of each `Product`"
      ],
      "id": "y2DGB6BYJ5pH"
    },
    {
      "cell_type": "code",
      "metadata": {
        "colab": {
          "base_uri": "https://localhost:8080/",
          "height": 387
        },
        "id": "sRE3JE5CJ5pH",
        "outputId": "468836ce-98c2-44bc-ef9a-9019d90925d3"
      },
      "source": [
        "df_p=df.groupby(['Product'])['Quantity Ordered'].sum().sort_values(ascending=False).head(10)\n",
        "df_p=df_p.to_frame()\n",
        "df_p"
      ],
      "id": "sRE3JE5CJ5pH",
      "execution_count": 26,
      "outputs": [
        {
          "output_type": "execute_result",
          "data": {
            "text/html": [
              "<div>\n",
              "<style scoped>\n",
              "    .dataframe tbody tr th:only-of-type {\n",
              "        vertical-align: middle;\n",
              "    }\n",
              "\n",
              "    .dataframe tbody tr th {\n",
              "        vertical-align: top;\n",
              "    }\n",
              "\n",
              "    .dataframe thead th {\n",
              "        text-align: right;\n",
              "    }\n",
              "</style>\n",
              "<table border=\"1\" class=\"dataframe\">\n",
              "  <thead>\n",
              "    <tr style=\"text-align: right;\">\n",
              "      <th></th>\n",
              "      <th>Quantity Ordered</th>\n",
              "    </tr>\n",
              "    <tr>\n",
              "      <th>Product</th>\n",
              "      <th></th>\n",
              "    </tr>\n",
              "  </thead>\n",
              "  <tbody>\n",
              "    <tr>\n",
              "      <th>AAA Batteries (4-pack)</th>\n",
              "      <td>30487</td>\n",
              "    </tr>\n",
              "    <tr>\n",
              "      <th>AA Batteries (4-pack)</th>\n",
              "      <td>27148</td>\n",
              "    </tr>\n",
              "    <tr>\n",
              "      <th>USB-C Charging Cable</th>\n",
              "      <td>23555</td>\n",
              "    </tr>\n",
              "    <tr>\n",
              "      <th>Lightning Charging Cable</th>\n",
              "      <td>22841</td>\n",
              "    </tr>\n",
              "    <tr>\n",
              "      <th>Wired Headphones</th>\n",
              "      <td>20201</td>\n",
              "    </tr>\n",
              "    <tr>\n",
              "      <th>Apple Airpods Headphones</th>\n",
              "      <td>15383</td>\n",
              "    </tr>\n",
              "    <tr>\n",
              "      <th>Bose SoundSport Headphones</th>\n",
              "      <td>13236</td>\n",
              "    </tr>\n",
              "    <tr>\n",
              "      <th>27in FHD Monitor</th>\n",
              "      <td>7429</td>\n",
              "    </tr>\n",
              "    <tr>\n",
              "      <th>iPhone</th>\n",
              "      <td>6732</td>\n",
              "    </tr>\n",
              "    <tr>\n",
              "      <th>27in 4K Gaming Monitor</th>\n",
              "      <td>6134</td>\n",
              "    </tr>\n",
              "  </tbody>\n",
              "</table>\n",
              "</div>"
            ],
            "text/plain": [
              "                            Quantity Ordered\n",
              "Product                                     \n",
              "AAA Batteries (4-pack)                 30487\n",
              "AA Batteries (4-pack)                  27148\n",
              "USB-C Charging Cable                   23555\n",
              "Lightning Charging Cable               22841\n",
              "Wired Headphones                       20201\n",
              "Apple Airpods Headphones               15383\n",
              "Bose SoundSport Headphones             13236\n",
              "27in FHD Monitor                        7429\n",
              "iPhone                                  6732\n",
              "27in 4K Gaming Monitor                  6134"
            ]
          },
          "metadata": {
            "tags": []
          },
          "execution_count": 26
        }
      ]
    },
    {
      "cell_type": "markdown",
      "metadata": {
        "id": "iAIWhYIFJ5pI"
      },
      "source": [
        "The results above show the best-selling products sold during January 2019 - January 2020. The two best-selling products are `AAA Batteries` and `AA Batterie`. It was possible because that year many people needed these products because they had the appropriate gadgets."
      ],
      "id": "iAIWhYIFJ5pI"
    }
  ]
}