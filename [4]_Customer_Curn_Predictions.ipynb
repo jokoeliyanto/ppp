{
  "nbformat": 4,
  "nbformat_minor": 0,
  "metadata": {
    "colab": {
      "name": "[4] Customer Curn Predictions.ipynb",
      "provenance": [],
      "collapsed_sections": [
        "S03t9w5hm0t8",
        "Dv0YSenHoAu_",
        "tBuf0Ig0pg8u",
        "w1jZ3KEDqyrH",
        "AKKpKLu8cu3O",
        "RnUUqSL8dYab"
      ],
      "authorship_tag": "ABX9TyPR4omQ9yPHX6hOBZRraajc",
      "include_colab_link": true
    },
    "kernelspec": {
      "name": "python3",
      "display_name": "Python 3"
    },
    "language_info": {
      "name": "python"
    },
    "accelerator": "GPU"
  },
  "cells": [
    {
      "cell_type": "markdown",
      "metadata": {
        "id": "view-in-github",
        "colab_type": "text"
      },
      "source": [
        "<a href=\"https://colab.research.google.com/github/jokoeliyanto/ppp/blob/main/%5B4%5D_Customer_Curn_Predictions.ipynb\" target=\"_parent\"><img src=\"https://colab.research.google.com/assets/colab-badge.svg\" alt=\"Open In Colab\"/></a>"
      ]
    },
    {
      "cell_type": "markdown",
      "metadata": {
        "id": "nswV697WkkJu"
      },
      "source": [
        "<table>\n",
        "  <tr><td>\n",
        "    <img src=\"https://raw.githubusercontent.com/jokoeliyanto/ppp/main/images/h4.png\">\n",
        "  </td></tr>\n",
        "<table>"
      ]
    },
    {
      "cell_type": "markdown",
      "metadata": {
        "id": "1-hp6u0FkwR9"
      },
      "source": [
        "# Project Background\n",
        "\n",
        "Customer churn analysis refers to the customer attrition rate in a company. This analysis helps companies identify the cause of the churn and implement effective strategies for retention. In this project wi will use DQLab Telco dataset.\n",
        "\n",
        "DQLab Telco is a Telco company that already has many branches spread everywhere. Since its establishment in 2019, DQLab Telco has been consistent in paying attention to its customer experience so that customers will not leave it.\n",
        "\n",
        "Even though it's only a little over 1 year old, DQLab Telco already has many customers who have switched subscriptions to competitors. The management wants to reduce the number of churn customers by using machine learning. Now is the time for us to build the right model to predict customer churn."
      ]
    },
    {
      "cell_type": "markdown",
      "metadata": {
        "id": "wBgmpcpWmFvn"
      },
      "source": [
        "# Problems Statements\n",
        "\n",
        "Build a machine learning model to predict whether a customer will churn or not based on given dataset!"
      ]
    },
    {
      "cell_type": "markdown",
      "metadata": {
        "id": "sGZc_RTMmFyY"
      },
      "source": [
        "# Steps for Customer Churn Prediction\n",
        "\n",
        "The steps to be taken are,\n",
        "\n",
        "1. Loading the Dataset\n",
        "2. Performing Exploratory Data Analysis\n",
        "3. Doing Data Pre-Processing\n",
        "4. Machine Learning Modelling\n",
        "5. Determining the Best Model"
      ]
    },
    {
      "cell_type": "markdown",
      "metadata": {
        "id": "S03t9w5hm0t8"
      },
      "source": [
        "# Load Datasets\n"
      ]
    },
    {
      "cell_type": "markdown",
      "metadata": {
        "id": "7tUnuD4Mmixh"
      },
      "source": [
        "## Import Library"
      ]
    },
    {
      "cell_type": "code",
      "metadata": {
        "id": "uZqjG8BskSPW"
      },
      "source": [
        "import pandas as pd\n",
        "import numpy as np\n",
        "\n",
        "import matplotlib.pyplot as plt\n",
        "import seaborn as sns\n",
        "\n",
        "from sklearn.preprocessing import LabelEncoder\n",
        "from sklearn.model_selection import train_test_split\n",
        "from sklearn.linear_model import LogisticRegression\n",
        "from sklearn.ensemble import RandomForestClassifier\n",
        "from sklearn.ensemble import GradientBoostingClassifier\n",
        "from sklearn.metrics import confusion_matrix, classification_report\n",
        "\n",
        "import pickle\n",
        "\n",
        "from pathlib import Path \n",
        "\n",
        "import warnings\n",
        "warnings.filterwarnings('ignore')"
      ],
      "execution_count": 2,
      "outputs": []
    },
    {
      "cell_type": "markdown",
      "metadata": {
        "id": "CvrWomEAdxIk"
      },
      "source": [
        "## Open Dataset"
      ]
    },
    {
      "cell_type": "markdown",
      "metadata": {
        "id": "RxsLsC1cds1a"
      },
      "source": [
        "\n",
        "The dataset used is already provided in csv format, computer can read the data through the pandas function in python df_load = pd.read_csv('https://raw.githubusercontent.com/jokoeliyanto/ppp/main/dataset/dqlab_telco_final.csv')\n",
        "\n",
        " \n",
        "The detailed data are as follows:\n",
        "\n",
        "* **UpdatedAt** Periode of Data taken\n",
        "* **customerID** Customer ID\n",
        "* **gender** Whether the customer is a male or a female (Male, Female)\n",
        "* **SeniorCitizen** Whether the customer is a senior citizen or not (Yes, No)\n",
        "* **Partner** Whether the customer has a partner or not (Yes, No)\n",
        "* **tenure** Number of months the customer has stayed with the company\n",
        "* **PhoneService** Whether the customer has a phone service or not (Yes, No)\n",
        "* **InternetService** Customer’s internet service provider (Yes, No)\n",
        "* **StreamingTV** Whether the customer has streaming TV or not (Yes, No)\n",
        "* **PaperlessBilling** Whether the customer has paperless billing or not (Yes, No)\n",
        "* **MonthlyCharges** The amount charged to the customer monthly\n",
        "* **TotalCharges** The total amount charged to the customer\n",
        "* **Churn** Whether the customer churned or not (Yes, No)"
      ]
    },
    {
      "cell_type": "code",
      "metadata": {
        "colab": {
          "base_uri": "https://localhost:8080/",
          "height": 0
        },
        "id": "RF7giunSmktl",
        "outputId": "56f64924-6864-43cf-94c2-9d249931c49b"
      },
      "source": [
        "df_load = pd.read_csv('https://raw.githubusercontent.com/jokoeliyanto/ppp/main/dataset/dqlab_telco_final.csv')\n",
        "df_load"
      ],
      "execution_count": 3,
      "outputs": [
        {
          "output_type": "execute_result",
          "data": {
            "text/html": [
              "<div>\n",
              "<style scoped>\n",
              "    .dataframe tbody tr th:only-of-type {\n",
              "        vertical-align: middle;\n",
              "    }\n",
              "\n",
              "    .dataframe tbody tr th {\n",
              "        vertical-align: top;\n",
              "    }\n",
              "\n",
              "    .dataframe thead th {\n",
              "        text-align: right;\n",
              "    }\n",
              "</style>\n",
              "<table border=\"1\" class=\"dataframe\">\n",
              "  <thead>\n",
              "    <tr style=\"text-align: right;\">\n",
              "      <th></th>\n",
              "      <th>UpdatedAt</th>\n",
              "      <th>customerID</th>\n",
              "      <th>gender</th>\n",
              "      <th>SeniorCitizen</th>\n",
              "      <th>Partner</th>\n",
              "      <th>tenure</th>\n",
              "      <th>PhoneService</th>\n",
              "      <th>StreamingTV</th>\n",
              "      <th>InternetService</th>\n",
              "      <th>PaperlessBilling</th>\n",
              "      <th>MonthlyCharges</th>\n",
              "      <th>TotalCharges</th>\n",
              "      <th>Churn</th>\n",
              "    </tr>\n",
              "  </thead>\n",
              "  <tbody>\n",
              "    <tr>\n",
              "      <th>0</th>\n",
              "      <td>202006</td>\n",
              "      <td>45759018157</td>\n",
              "      <td>Female</td>\n",
              "      <td>No</td>\n",
              "      <td>Yes</td>\n",
              "      <td>1</td>\n",
              "      <td>No</td>\n",
              "      <td>No</td>\n",
              "      <td>Yes</td>\n",
              "      <td>Yes</td>\n",
              "      <td>29.85</td>\n",
              "      <td>29.85</td>\n",
              "      <td>No</td>\n",
              "    </tr>\n",
              "    <tr>\n",
              "      <th>1</th>\n",
              "      <td>202006</td>\n",
              "      <td>45315483266</td>\n",
              "      <td>Male</td>\n",
              "      <td>No</td>\n",
              "      <td>Yes</td>\n",
              "      <td>60</td>\n",
              "      <td>Yes</td>\n",
              "      <td>No</td>\n",
              "      <td>No</td>\n",
              "      <td>Yes</td>\n",
              "      <td>20.50</td>\n",
              "      <td>1198.80</td>\n",
              "      <td>No</td>\n",
              "    </tr>\n",
              "    <tr>\n",
              "      <th>2</th>\n",
              "      <td>202006</td>\n",
              "      <td>45236961615</td>\n",
              "      <td>Male</td>\n",
              "      <td>No</td>\n",
              "      <td>No</td>\n",
              "      <td>5</td>\n",
              "      <td>Yes</td>\n",
              "      <td>Yes</td>\n",
              "      <td>Yes</td>\n",
              "      <td>No</td>\n",
              "      <td>104.10</td>\n",
              "      <td>541.90</td>\n",
              "      <td>Yes</td>\n",
              "    </tr>\n",
              "    <tr>\n",
              "      <th>3</th>\n",
              "      <td>202006</td>\n",
              "      <td>45929827382</td>\n",
              "      <td>Female</td>\n",
              "      <td>No</td>\n",
              "      <td>Yes</td>\n",
              "      <td>72</td>\n",
              "      <td>Yes</td>\n",
              "      <td>Yes</td>\n",
              "      <td>Yes</td>\n",
              "      <td>Yes</td>\n",
              "      <td>115.50</td>\n",
              "      <td>8312.75</td>\n",
              "      <td>No</td>\n",
              "    </tr>\n",
              "    <tr>\n",
              "      <th>4</th>\n",
              "      <td>202006</td>\n",
              "      <td>45305082233</td>\n",
              "      <td>Female</td>\n",
              "      <td>No</td>\n",
              "      <td>Yes</td>\n",
              "      <td>56</td>\n",
              "      <td>Yes</td>\n",
              "      <td>Yes</td>\n",
              "      <td>Yes</td>\n",
              "      <td>No</td>\n",
              "      <td>81.25</td>\n",
              "      <td>4620.40</td>\n",
              "      <td>No</td>\n",
              "    </tr>\n",
              "    <tr>\n",
              "      <th>...</th>\n",
              "      <td>...</td>\n",
              "      <td>...</td>\n",
              "      <td>...</td>\n",
              "      <td>...</td>\n",
              "      <td>...</td>\n",
              "      <td>...</td>\n",
              "      <td>...</td>\n",
              "      <td>...</td>\n",
              "      <td>...</td>\n",
              "      <td>...</td>\n",
              "      <td>...</td>\n",
              "      <td>...</td>\n",
              "      <td>...</td>\n",
              "    </tr>\n",
              "    <tr>\n",
              "      <th>6945</th>\n",
              "      <td>202006</td>\n",
              "      <td>45437311872</td>\n",
              "      <td>Male</td>\n",
              "      <td>No</td>\n",
              "      <td>No</td>\n",
              "      <td>1</td>\n",
              "      <td>Yes</td>\n",
              "      <td>No</td>\n",
              "      <td>Yes</td>\n",
              "      <td>Yes</td>\n",
              "      <td>44.75</td>\n",
              "      <td>44.75</td>\n",
              "      <td>No</td>\n",
              "    </tr>\n",
              "    <tr>\n",
              "      <th>6946</th>\n",
              "      <td>202006</td>\n",
              "      <td>45184632574</td>\n",
              "      <td>Female</td>\n",
              "      <td>Yes</td>\n",
              "      <td>No</td>\n",
              "      <td>1</td>\n",
              "      <td>Yes</td>\n",
              "      <td>No</td>\n",
              "      <td>Yes</td>\n",
              "      <td>Yes</td>\n",
              "      <td>70.15</td>\n",
              "      <td>70.15</td>\n",
              "      <td>Yes</td>\n",
              "    </tr>\n",
              "    <tr>\n",
              "      <th>6947</th>\n",
              "      <td>202006</td>\n",
              "      <td>45023517923</td>\n",
              "      <td>Female</td>\n",
              "      <td>No</td>\n",
              "      <td>No</td>\n",
              "      <td>1</td>\n",
              "      <td>Yes</td>\n",
              "      <td>Yes</td>\n",
              "      <td>Yes</td>\n",
              "      <td>Yes</td>\n",
              "      <td>85.55</td>\n",
              "      <td>85.55</td>\n",
              "      <td>Yes</td>\n",
              "    </tr>\n",
              "    <tr>\n",
              "      <th>6948</th>\n",
              "      <td>202006</td>\n",
              "      <td>45665022680</td>\n",
              "      <td>Female</td>\n",
              "      <td>No</td>\n",
              "      <td>Yes</td>\n",
              "      <td>72</td>\n",
              "      <td>Yes</td>\n",
              "      <td>Yes</td>\n",
              "      <td>Yes</td>\n",
              "      <td>Yes</td>\n",
              "      <td>117.15</td>\n",
              "      <td>8529.50</td>\n",
              "      <td>No</td>\n",
              "    </tr>\n",
              "    <tr>\n",
              "      <th>6949</th>\n",
              "      <td>202006</td>\n",
              "      <td>45957014561</td>\n",
              "      <td>Male</td>\n",
              "      <td>No</td>\n",
              "      <td>No</td>\n",
              "      <td>64</td>\n",
              "      <td>Yes</td>\n",
              "      <td>No</td>\n",
              "      <td>Yes</td>\n",
              "      <td>No</td>\n",
              "      <td>99.25</td>\n",
              "      <td>6549.45</td>\n",
              "      <td>No</td>\n",
              "    </tr>\n",
              "  </tbody>\n",
              "</table>\n",
              "<p>6950 rows × 13 columns</p>\n",
              "</div>"
            ],
            "text/plain": [
              "      UpdatedAt   customerID  gender  ... MonthlyCharges TotalCharges  Churn\n",
              "0        202006  45759018157  Female  ...          29.85        29.85     No\n",
              "1        202006  45315483266    Male  ...          20.50      1198.80     No\n",
              "2        202006  45236961615    Male  ...         104.10       541.90    Yes\n",
              "3        202006  45929827382  Female  ...         115.50      8312.75     No\n",
              "4        202006  45305082233  Female  ...          81.25      4620.40     No\n",
              "...         ...          ...     ...  ...            ...          ...    ...\n",
              "6945     202006  45437311872    Male  ...          44.75        44.75     No\n",
              "6946     202006  45184632574  Female  ...          70.15        70.15    Yes\n",
              "6947     202006  45023517923  Female  ...          85.55        85.55    Yes\n",
              "6948     202006  45665022680  Female  ...         117.15      8529.50     No\n",
              "6949     202006  45957014561    Male  ...          99.25      6549.45     No\n",
              "\n",
              "[6950 rows x 13 columns]"
            ]
          },
          "metadata": {
            "tags": []
          },
          "execution_count": 3
        }
      ]
    },
    {
      "cell_type": "markdown",
      "metadata": {
        "id": "79GrIbEynhy9"
      },
      "source": [
        "Display dataset size"
      ]
    },
    {
      "cell_type": "code",
      "metadata": {
        "colab": {
          "base_uri": "https://localhost:8080/"
        },
        "id": "4OPPxpswnhex",
        "outputId": "ac15f152-ba7a-402f-db0b-e5305e1d8b23"
      },
      "source": [
        "df_load.shape"
      ],
      "execution_count": 4,
      "outputs": [
        {
          "output_type": "execute_result",
          "data": {
            "text/plain": [
              "(6950, 13)"
            ]
          },
          "metadata": {
            "tags": []
          },
          "execution_count": 4
        }
      ]
    },
    {
      "cell_type": "markdown",
      "metadata": {
        "id": "2xp0cHW4noWq"
      },
      "source": [
        "Show first 5 rows dataset"
      ]
    },
    {
      "cell_type": "code",
      "metadata": {
        "colab": {
          "base_uri": "https://localhost:8080/",
          "height": 0
        },
        "id": "SlQ7PgSNnfJc",
        "outputId": "f89273b0-9ec5-421b-c7e5-15d33918ebc2"
      },
      "source": [
        "df_load.head()"
      ],
      "execution_count": 5,
      "outputs": [
        {
          "output_type": "execute_result",
          "data": {
            "text/html": [
              "<div>\n",
              "<style scoped>\n",
              "    .dataframe tbody tr th:only-of-type {\n",
              "        vertical-align: middle;\n",
              "    }\n",
              "\n",
              "    .dataframe tbody tr th {\n",
              "        vertical-align: top;\n",
              "    }\n",
              "\n",
              "    .dataframe thead th {\n",
              "        text-align: right;\n",
              "    }\n",
              "</style>\n",
              "<table border=\"1\" class=\"dataframe\">\n",
              "  <thead>\n",
              "    <tr style=\"text-align: right;\">\n",
              "      <th></th>\n",
              "      <th>UpdatedAt</th>\n",
              "      <th>customerID</th>\n",
              "      <th>gender</th>\n",
              "      <th>SeniorCitizen</th>\n",
              "      <th>Partner</th>\n",
              "      <th>tenure</th>\n",
              "      <th>PhoneService</th>\n",
              "      <th>StreamingTV</th>\n",
              "      <th>InternetService</th>\n",
              "      <th>PaperlessBilling</th>\n",
              "      <th>MonthlyCharges</th>\n",
              "      <th>TotalCharges</th>\n",
              "      <th>Churn</th>\n",
              "    </tr>\n",
              "  </thead>\n",
              "  <tbody>\n",
              "    <tr>\n",
              "      <th>0</th>\n",
              "      <td>202006</td>\n",
              "      <td>45759018157</td>\n",
              "      <td>Female</td>\n",
              "      <td>No</td>\n",
              "      <td>Yes</td>\n",
              "      <td>1</td>\n",
              "      <td>No</td>\n",
              "      <td>No</td>\n",
              "      <td>Yes</td>\n",
              "      <td>Yes</td>\n",
              "      <td>29.85</td>\n",
              "      <td>29.85</td>\n",
              "      <td>No</td>\n",
              "    </tr>\n",
              "    <tr>\n",
              "      <th>1</th>\n",
              "      <td>202006</td>\n",
              "      <td>45315483266</td>\n",
              "      <td>Male</td>\n",
              "      <td>No</td>\n",
              "      <td>Yes</td>\n",
              "      <td>60</td>\n",
              "      <td>Yes</td>\n",
              "      <td>No</td>\n",
              "      <td>No</td>\n",
              "      <td>Yes</td>\n",
              "      <td>20.50</td>\n",
              "      <td>1198.80</td>\n",
              "      <td>No</td>\n",
              "    </tr>\n",
              "    <tr>\n",
              "      <th>2</th>\n",
              "      <td>202006</td>\n",
              "      <td>45236961615</td>\n",
              "      <td>Male</td>\n",
              "      <td>No</td>\n",
              "      <td>No</td>\n",
              "      <td>5</td>\n",
              "      <td>Yes</td>\n",
              "      <td>Yes</td>\n",
              "      <td>Yes</td>\n",
              "      <td>No</td>\n",
              "      <td>104.10</td>\n",
              "      <td>541.90</td>\n",
              "      <td>Yes</td>\n",
              "    </tr>\n",
              "    <tr>\n",
              "      <th>3</th>\n",
              "      <td>202006</td>\n",
              "      <td>45929827382</td>\n",
              "      <td>Female</td>\n",
              "      <td>No</td>\n",
              "      <td>Yes</td>\n",
              "      <td>72</td>\n",
              "      <td>Yes</td>\n",
              "      <td>Yes</td>\n",
              "      <td>Yes</td>\n",
              "      <td>Yes</td>\n",
              "      <td>115.50</td>\n",
              "      <td>8312.75</td>\n",
              "      <td>No</td>\n",
              "    </tr>\n",
              "    <tr>\n",
              "      <th>4</th>\n",
              "      <td>202006</td>\n",
              "      <td>45305082233</td>\n",
              "      <td>Female</td>\n",
              "      <td>No</td>\n",
              "      <td>Yes</td>\n",
              "      <td>56</td>\n",
              "      <td>Yes</td>\n",
              "      <td>Yes</td>\n",
              "      <td>Yes</td>\n",
              "      <td>No</td>\n",
              "      <td>81.25</td>\n",
              "      <td>4620.40</td>\n",
              "      <td>No</td>\n",
              "    </tr>\n",
              "  </tbody>\n",
              "</table>\n",
              "</div>"
            ],
            "text/plain": [
              "   UpdatedAt   customerID  gender  ... MonthlyCharges TotalCharges  Churn\n",
              "0     202006  45759018157  Female  ...          29.85        29.85     No\n",
              "1     202006  45315483266    Male  ...          20.50      1198.80     No\n",
              "2     202006  45236961615    Male  ...         104.10       541.90    Yes\n",
              "3     202006  45929827382  Female  ...         115.50      8312.75     No\n",
              "4     202006  45305082233  Female  ...          81.25      4620.40     No\n",
              "\n",
              "[5 rows x 13 columns]"
            ]
          },
          "metadata": {
            "tags": []
          },
          "execution_count": 5
        }
      ]
    },
    {
      "cell_type": "markdown",
      "metadata": {
        "id": "P4qpWWYrnuGd"
      },
      "source": [
        "Show the number of unique Customer ID"
      ]
    },
    {
      "cell_type": "code",
      "metadata": {
        "colab": {
          "base_uri": "https://localhost:8080/"
        },
        "id": "5tvMDYxyn2PL",
        "outputId": "29a06001-e01b-446c-82e5-d45ba313e5b6"
      },
      "source": [
        "df_load.customerID.nunique()"
      ],
      "execution_count": 6,
      "outputs": [
        {
          "output_type": "execute_result",
          "data": {
            "text/plain": [
              "6950"
            ]
          },
          "metadata": {
            "tags": []
          },
          "execution_count": 6
        }
      ]
    },
    {
      "cell_type": "markdown",
      "metadata": {
        "id": "Dv0YSenHoAu_"
      },
      "source": [
        "# Performing Exploratory Data Analysis (EDA)"
      ]
    },
    {
      "cell_type": "markdown",
      "metadata": {
        "id": "escG9gzJoOKw"
      },
      "source": [
        "## Visualize Churn Percentage\n",
        "\n",
        "We want to see a univariate data visualization regarding the percentage of data churn from customers. Use **value_counts()** function to count the unique number of a column, **pie()** to create a pie chart"
      ]
    },
    {
      "cell_type": "code",
      "metadata": {
        "colab": {
          "base_uri": "https://localhost:8080/",
          "height": 335
        },
        "id": "wYx2XBH4oI-k",
        "outputId": "932ddc94-c3b1-4714-822a-c3ef8c828017"
      },
      "source": [
        "fig = plt.figure()\n",
        "ax = fig.add_axes([0,0,1,1])\n",
        "ax.axis('equal')\n",
        "labels = ['Yes','No']\n",
        "churn = df_load.Churn.value_counts()\n",
        "ax.pie(churn, labels=labels, autopct='%.0f%%')\n",
        "plt.title('Presentase Of Churn Customers')\n",
        "plt.show()"
      ],
      "execution_count": 7,
      "outputs": [
        {
          "output_type": "display_data",
          "data": {
            "image/png": "[encoded data removed]",
            "text/plain": [
              "<Figure size 432x288 with 1 Axes>"
            ]
          },
          "metadata": {
            "tags": []
          }
        }
      ]
    },
    {
      "cell_type": "markdown",
      "metadata": {
        "id": "f-THPzpsoeiO"
      },
      "source": [
        "## Exploratory Data Analysis (EDA) of Numerical Variables\n",
        "\n",
        "What we are going to do next is to select **variable predictor** which is numeric and plot bivariately, then interpret it.\n",
        "\n",
        "Use the `df_load` data to process at this stage and use the `subplots()` function to create an image and a set of subplots."
      ]
    },
    {
      "cell_type": "code",
      "metadata": {
        "colab": {
          "base_uri": "https://localhost:8080/",
          "height": 0
        },
        "id": "Zwwp2B6zoRzs",
        "outputId": "48ada3b2-6bdc-49db-bd24-483afb992613"
      },
      "source": [
        "#creating bin in chart\n",
        "numerical_features = ['MonthlyCharges','TotalCharges','tenure']\n",
        "fig, ax = plt.subplots(1, 3, figsize=(15, 6))\n",
        "# Use the following code to plot two overlays of histogram per each numerical_features, use a color of blue and orange, respectively\n",
        "df_load[df_load.Churn == 'No'][numerical_features].hist(bins=20, color='blue', alpha=0.5, ax=ax)\n",
        "df_load[df_load.Churn == 'Yes'][numerical_features].hist(bins=20, color='orange', alpha=0.5, ax=ax)\n",
        "plt.show()"
      ],
      "execution_count": 8,
      "outputs": [
        {
          "output_type": "display_data",
          "data": {
            "image/png": "[encoded data removed]",
            "text/plain": [
              "<Figure size 1080x432 with 3 Axes>"
            ]
          },
          "metadata": {
            "tags": [],
            "needs_background": "light"
          }
        }
      ]
    },
    {
      "cell_type": "markdown",
      "metadata": {
        "id": "hF8c7lE1orFy"
      },
      "source": [
        "## Exploratory Data Analysis (EDA) Categorical Variables\n",
        "\n",
        "After that, we will select predictor variables that are categorical and create a bivariate plot, then interpret it.\n",
        "\n",
        "Use `df_load` data for processing at this stage. Use the `countplot()` function to plot the number of observations in each bin of the categorical variable"
      ]
    },
    {
      "cell_type": "code",
      "metadata": {
        "colab": {
          "base_uri": "https://localhost:8080/",
          "height": 0
        },
        "id": "7XQOH61Wohw1",
        "outputId": "2f3aedfd-32fd-45bc-fc78-85484d17b877"
      },
      "source": [
        "sns.set(style='darkgrid')\n",
        "fig, ax = plt.subplots(3, 3, figsize=(14, 12))\n",
        "sns.countplot(data=df_load, x='gender', hue='Churn', ax=ax[0][0])\n",
        "sns.countplot(data=df_load, x='Partner', hue='Churn', ax=ax[0][1])\n",
        "sns.countplot(data=df_load, x='SeniorCitizen', hue='Churn', ax=ax[0][2])\n",
        "sns.countplot(data=df_load, x='PhoneService', hue='Churn', ax=ax[1][0])\n",
        "sns.countplot(data=df_load, x='StreamingTV', hue='Churn', ax=ax[1][1])\n",
        "sns.countplot(data=df_load, x='InternetService', hue='Churn', ax=ax[1][2])\n",
        "sns.countplot(data=df_load, x='PaperlessBilling', hue='Churn', ax=ax[2][1])\n",
        "plt.tight_layout()\n",
        "plt.show()"
      ],
      "execution_count": 9,
      "outputs": [
        {
          "output_type": "display_data",
          "data": {
            "image/png": "[encoded data removed]",
            "text/plain": [
              "<Figure size 1008x864 with 9 Axes>"
            ]
          },
          "metadata": {
            "tags": []
          }
        }
      ]
    },
    {
      "cell_type": "markdown",
      "metadata": {
        "id": "jItMIdT0pYqk"
      },
      "source": [
        "## Conclusion\n",
        "Based on the results and analysis above, it can be concluded:\n",
        "\n",
        "* First, we can see that the distribution of data as a whole does not churn customers, with details of Churn as much as 26% and No Churn as much as 74%.\n",
        "\n",
        "* Second, we can see that for MonthlyCharges there is a tendency that the smaller the monthly fee charged, the smaller the tendency to Churn. For TotalCharges, there seems to be no trend towards Churn customers. For tenure, there is a tendency that the longer the customer subscribes, the smaller the tendency to Churn.\n",
        "\n",
        "* Third, we can see that there is no significant difference for people who do churn in terms of gender and telephone service. However, there is a tendency that people who churn are people who do not have partners (partners: No), people whose status is senior citizens (SeniorCitizen: Yes), people who have TV streaming services (StreamingTV: Yes) , people who have Internet service (internetService: Yes) and people whose bills are paperless (PaperlessBilling: Yes)."
      ]
    },
    {
      "cell_type": "markdown",
      "metadata": {
        "id": "tBuf0Ig0pg8u"
      },
      "source": [
        "# Data PreProcessing"
      ]
    },
    {
      "cell_type": "markdown",
      "metadata": {
        "id": "BBu4DlIGpqkO"
      },
      "source": [
        "## Removing Unnecessary Columns from data\n",
        "\n",
        "Next we will delete the column that will not be included in the modeling, then save it with **name cleaned_df**. Show the top 5 rows.\n",
        "\n",
        "Use **drop()** to remove a column from a data"
      ]
    },
    {
      "cell_type": "code",
      "metadata": {
        "colab": {
          "base_uri": "https://localhost:8080/",
          "height": 222
        },
        "id": "--1GvmymotYf",
        "outputId": "9f93a351-353f-4399-ed08-8fa6dc89e0e9"
      },
      "source": [
        "#Remove the unnecessary columns customerID & UpdatedAt\n",
        "cleaned_df = df_load.drop(['customerID','UpdatedAt'], axis=1)\n",
        "cleaned_df.head()"
      ],
      "execution_count": 10,
      "outputs": [
        {
          "output_type": "execute_result",
          "data": {
            "text/html": [
              "<div>\n",
              "<style scoped>\n",
              "    .dataframe tbody tr th:only-of-type {\n",
              "        vertical-align: middle;\n",
              "    }\n",
              "\n",
              "    .dataframe tbody tr th {\n",
              "        vertical-align: top;\n",
              "    }\n",
              "\n",
              "    .dataframe thead th {\n",
              "        text-align: right;\n",
              "    }\n",
              "</style>\n",
              "<table border=\"1\" class=\"dataframe\">\n",
              "  <thead>\n",
              "    <tr style=\"text-align: right;\">\n",
              "      <th></th>\n",
              "      <th>gender</th>\n",
              "      <th>SeniorCitizen</th>\n",
              "      <th>Partner</th>\n",
              "      <th>tenure</th>\n",
              "      <th>PhoneService</th>\n",
              "      <th>StreamingTV</th>\n",
              "      <th>InternetService</th>\n",
              "      <th>PaperlessBilling</th>\n",
              "      <th>MonthlyCharges</th>\n",
              "      <th>TotalCharges</th>\n",
              "      <th>Churn</th>\n",
              "    </tr>\n",
              "  </thead>\n",
              "  <tbody>\n",
              "    <tr>\n",
              "      <th>0</th>\n",
              "      <td>Female</td>\n",
              "      <td>No</td>\n",
              "      <td>Yes</td>\n",
              "      <td>1</td>\n",
              "      <td>No</td>\n",
              "      <td>No</td>\n",
              "      <td>Yes</td>\n",
              "      <td>Yes</td>\n",
              "      <td>29.85</td>\n",
              "      <td>29.85</td>\n",
              "      <td>No</td>\n",
              "    </tr>\n",
              "    <tr>\n",
              "      <th>1</th>\n",
              "      <td>Male</td>\n",
              "      <td>No</td>\n",
              "      <td>Yes</td>\n",
              "      <td>60</td>\n",
              "      <td>Yes</td>\n",
              "      <td>No</td>\n",
              "      <td>No</td>\n",
              "      <td>Yes</td>\n",
              "      <td>20.50</td>\n",
              "      <td>1198.80</td>\n",
              "      <td>No</td>\n",
              "    </tr>\n",
              "    <tr>\n",
              "      <th>2</th>\n",
              "      <td>Male</td>\n",
              "      <td>No</td>\n",
              "      <td>No</td>\n",
              "      <td>5</td>\n",
              "      <td>Yes</td>\n",
              "      <td>Yes</td>\n",
              "      <td>Yes</td>\n",
              "      <td>No</td>\n",
              "      <td>104.10</td>\n",
              "      <td>541.90</td>\n",
              "      <td>Yes</td>\n",
              "    </tr>\n",
              "    <tr>\n",
              "      <th>3</th>\n",
              "      <td>Female</td>\n",
              "      <td>No</td>\n",
              "      <td>Yes</td>\n",
              "      <td>72</td>\n",
              "      <td>Yes</td>\n",
              "      <td>Yes</td>\n",
              "      <td>Yes</td>\n",
              "      <td>Yes</td>\n",
              "      <td>115.50</td>\n",
              "      <td>8312.75</td>\n",
              "      <td>No</td>\n",
              "    </tr>\n",
              "    <tr>\n",
              "      <th>4</th>\n",
              "      <td>Female</td>\n",
              "      <td>No</td>\n",
              "      <td>Yes</td>\n",
              "      <td>56</td>\n",
              "      <td>Yes</td>\n",
              "      <td>Yes</td>\n",
              "      <td>Yes</td>\n",
              "      <td>No</td>\n",
              "      <td>81.25</td>\n",
              "      <td>4620.40</td>\n",
              "      <td>No</td>\n",
              "    </tr>\n",
              "  </tbody>\n",
              "</table>\n",
              "</div>"
            ],
            "text/plain": [
              "   gender SeniorCitizen Partner  ...  MonthlyCharges TotalCharges Churn\n",
              "0  Female            No     Yes  ...           29.85        29.85    No\n",
              "1    Male            No     Yes  ...           20.50      1198.80    No\n",
              "2    Male            No      No  ...          104.10       541.90   Yes\n",
              "3  Female            No     Yes  ...          115.50      8312.75    No\n",
              "4  Female            No     Yes  ...           81.25      4620.40    No\n",
              "\n",
              "[5 rows x 11 columns]"
            ]
          },
          "metadata": {
            "tags": []
          },
          "execution_count": 10
        }
      ]
    },
    {
      "cell_type": "markdown",
      "metadata": {
        "id": "kklPRHUCp4fV"
      },
      "source": [
        "## Data Encoding \n",
        "\n",
        "Use the data from the results and analysis previously cleaned_df, to change the value of the data that is still in the form of **string** to **transformed** into a form of **numeric** using **LabelEncoder()**. Use **describe()** to see a description of the data."
      ]
    },
    {
      "cell_type": "code",
      "metadata": {
        "colab": {
          "base_uri": "https://localhost:8080/",
          "height": 317
        },
        "id": "Rg0DvLaGpznv",
        "outputId": "3de88da7-805d-4e0f-f2ea-97ddade1d7ad"
      },
      "source": [
        "#Convert all the non-numeric columns to numerical data types\n",
        "for column in cleaned_df.columns:\n",
        "      if cleaned_df[column].dtype == np.number: continue\n",
        "      # Perform encoding for each non-numeric column\n",
        "      cleaned_df[column] = LabelEncoder().fit_transform(cleaned_df[column])\n",
        "\n",
        "cleaned_df.describe()"
      ],
      "execution_count": 11,
      "outputs": [
        {
          "output_type": "execute_result",
          "data": {
            "text/html": [
              "<div>\n",
              "<style scoped>\n",
              "    .dataframe tbody tr th:only-of-type {\n",
              "        vertical-align: middle;\n",
              "    }\n",
              "\n",
              "    .dataframe tbody tr th {\n",
              "        vertical-align: top;\n",
              "    }\n",
              "\n",
              "    .dataframe thead th {\n",
              "        text-align: right;\n",
              "    }\n",
              "</style>\n",
              "<table border=\"1\" class=\"dataframe\">\n",
              "  <thead>\n",
              "    <tr style=\"text-align: right;\">\n",
              "      <th></th>\n",
              "      <th>gender</th>\n",
              "      <th>SeniorCitizen</th>\n",
              "      <th>Partner</th>\n",
              "      <th>tenure</th>\n",
              "      <th>PhoneService</th>\n",
              "      <th>StreamingTV</th>\n",
              "      <th>InternetService</th>\n",
              "      <th>PaperlessBilling</th>\n",
              "      <th>MonthlyCharges</th>\n",
              "      <th>TotalCharges</th>\n",
              "      <th>Churn</th>\n",
              "    </tr>\n",
              "  </thead>\n",
              "  <tbody>\n",
              "    <tr>\n",
              "      <th>count</th>\n",
              "      <td>6950.000000</td>\n",
              "      <td>6950.000000</td>\n",
              "      <td>6950.000000</td>\n",
              "      <td>6950.000000</td>\n",
              "      <td>6950.000000</td>\n",
              "      <td>6950.000000</td>\n",
              "      <td>6950.000000</td>\n",
              "      <td>6950.000000</td>\n",
              "      <td>6950.000000</td>\n",
              "      <td>6950.000000</td>\n",
              "      <td>6950.000000</td>\n",
              "    </tr>\n",
              "    <tr>\n",
              "      <th>mean</th>\n",
              "      <td>0.504317</td>\n",
              "      <td>0.162302</td>\n",
              "      <td>0.483309</td>\n",
              "      <td>32.415827</td>\n",
              "      <td>0.903741</td>\n",
              "      <td>0.384317</td>\n",
              "      <td>0.783453</td>\n",
              "      <td>0.591942</td>\n",
              "      <td>64.992201</td>\n",
              "      <td>2286.058750</td>\n",
              "      <td>0.264173</td>\n",
              "    </tr>\n",
              "    <tr>\n",
              "      <th>std</th>\n",
              "      <td>0.500017</td>\n",
              "      <td>0.368754</td>\n",
              "      <td>0.499757</td>\n",
              "      <td>24.561336</td>\n",
              "      <td>0.294967</td>\n",
              "      <td>0.486468</td>\n",
              "      <td>0.411921</td>\n",
              "      <td>0.491509</td>\n",
              "      <td>30.032040</td>\n",
              "      <td>2265.702553</td>\n",
              "      <td>0.440923</td>\n",
              "    </tr>\n",
              "    <tr>\n",
              "      <th>min</th>\n",
              "      <td>0.000000</td>\n",
              "      <td>0.000000</td>\n",
              "      <td>0.000000</td>\n",
              "      <td>0.000000</td>\n",
              "      <td>0.000000</td>\n",
              "      <td>0.000000</td>\n",
              "      <td>0.000000</td>\n",
              "      <td>0.000000</td>\n",
              "      <td>0.000000</td>\n",
              "      <td>19.000000</td>\n",
              "      <td>0.000000</td>\n",
              "    </tr>\n",
              "    <tr>\n",
              "      <th>25%</th>\n",
              "      <td>0.000000</td>\n",
              "      <td>0.000000</td>\n",
              "      <td>0.000000</td>\n",
              "      <td>9.000000</td>\n",
              "      <td>1.000000</td>\n",
              "      <td>0.000000</td>\n",
              "      <td>1.000000</td>\n",
              "      <td>0.000000</td>\n",
              "      <td>36.462500</td>\n",
              "      <td>406.975000</td>\n",
              "      <td>0.000000</td>\n",
              "    </tr>\n",
              "    <tr>\n",
              "      <th>50%</th>\n",
              "      <td>1.000000</td>\n",
              "      <td>0.000000</td>\n",
              "      <td>0.000000</td>\n",
              "      <td>29.000000</td>\n",
              "      <td>1.000000</td>\n",
              "      <td>0.000000</td>\n",
              "      <td>1.000000</td>\n",
              "      <td>1.000000</td>\n",
              "      <td>70.450000</td>\n",
              "      <td>1400.850000</td>\n",
              "      <td>0.000000</td>\n",
              "    </tr>\n",
              "    <tr>\n",
              "      <th>75%</th>\n",
              "      <td>1.000000</td>\n",
              "      <td>0.000000</td>\n",
              "      <td>1.000000</td>\n",
              "      <td>55.000000</td>\n",
              "      <td>1.000000</td>\n",
              "      <td>1.000000</td>\n",
              "      <td>1.000000</td>\n",
              "      <td>1.000000</td>\n",
              "      <td>89.850000</td>\n",
              "      <td>3799.837500</td>\n",
              "      <td>1.000000</td>\n",
              "    </tr>\n",
              "    <tr>\n",
              "      <th>max</th>\n",
              "      <td>1.000000</td>\n",
              "      <td>1.000000</td>\n",
              "      <td>1.000000</td>\n",
              "      <td>73.000000</td>\n",
              "      <td>1.000000</td>\n",
              "      <td>1.000000</td>\n",
              "      <td>1.000000</td>\n",
              "      <td>1.000000</td>\n",
              "      <td>169.931250</td>\n",
              "      <td>8889.131250</td>\n",
              "      <td>1.000000</td>\n",
              "    </tr>\n",
              "  </tbody>\n",
              "</table>\n",
              "</div>"
            ],
            "text/plain": [
              "            gender  SeniorCitizen  ...  TotalCharges        Churn\n",
              "count  6950.000000    6950.000000  ...   6950.000000  6950.000000\n",
              "mean      0.504317       0.162302  ...   2286.058750     0.264173\n",
              "std       0.500017       0.368754  ...   2265.702553     0.440923\n",
              "min       0.000000       0.000000  ...     19.000000     0.000000\n",
              "25%       0.000000       0.000000  ...    406.975000     0.000000\n",
              "50%       1.000000       0.000000  ...   1400.850000     0.000000\n",
              "75%       1.000000       0.000000  ...   3799.837500     1.000000\n",
              "max       1.000000       1.000000  ...   8889.131250     1.000000\n",
              "\n",
              "[8 rows x 11 columns]"
            ]
          },
          "metadata": {
            "tags": []
          },
          "execution_count": 11
        }
      ]
    },
    {
      "cell_type": "markdown",
      "metadata": {
        "id": "3a5p3_tXqDxd"
      },
      "source": [
        "## Splitting Dataset\n",
        "\n",
        "Use the data from the previous results and analysis **cleaned_df**, to divide the dataset into 2 parts (**70% training & 30% testing**) based on the **predictor (X)** and **target (Y)** variables . Use **train_test_split()** to split the data. Include **value_counts** to check if the division is equal.\n",
        "\n",
        "Save the result of splitting the data into x_train, y_train, x_test & y_test"
      ]
    },
    {
      "cell_type": "code",
      "metadata": {
        "colab": {
          "base_uri": "https://localhost:8080/"
        },
        "id": "cEM1_fztp-Gv",
        "outputId": "580bc424-3361-4150-9753-6db09be2bd36"
      },
      "source": [
        "# Predictor dan target\n",
        "X = cleaned_df.drop('Churn', axis = 1)\n",
        "y = cleaned_df['Churn']\n",
        "\n",
        "# Splitting train and test\n",
        "x_train, x_test, y_train, y_test = train_test_split(X, y, test_size=0.3, random_state=42)\n",
        "\n",
        "# Print according to the expected result\n",
        "print('The number of rows and columns of x_train is:', x_train.shape,', while the number of rows and columns of y_train is:', y_train.shape)\n",
        "print('Churn percentage in Training data is:')\n",
        "print(y_train.value_counts(normalize=True))\n",
        "print('The number of rows and columns of x_test is:', x_test.shape,', while the number of rows and columns of y_test is:', y_test.shape)\n",
        "print('Churn percentage in Testing data is:')\n",
        "print(y_test.value_counts(normalize=True))"
      ],
      "execution_count": 29,
      "outputs": [
        {
          "output_type": "stream",
          "text": [
            "The number of rows and columns of x_train is: (4865, 10) , while the number of rows and columns of y_train is: (4865,)\n",
            "Churn percentage in Training data is:\n",
            "0    0.734841\n",
            "1    0.265159\n",
            "Name: Churn, dtype: float64\n",
            "The number of rows and columns of x_test is: (2085, 10) , while the number of rows and columns of y_test is: (2085,)\n",
            "Churn percentage in Testing data is:\n",
            "0    0.738129\n",
            "1    0.261871\n",
            "Name: Churn, dtype: float64\n"
          ],
          "name": "stdout"
        }
      ]
    },
    {
      "cell_type": "markdown",
      "metadata": {
        "id": "7piwhOPpqpoi"
      },
      "source": [
        "## Conclusion\n",
        "\n",
        "After further analysis, it turns out that there are columns that are not needed in the model, namely the customer ID number `customerID` & the data collection period `UpdatedAt`, so this needs to be deleted.\n",
        "\n",
        "Then we continue to change the value of the data that is still in the form of a string to be numeric through encoding, after that it can be seen that the distribution of the data, especially the min and max columns of each variable, has changed to 0 & 1.\n",
        "\n",
        "The last stage is to divide the data into 2 parts for modeling purposes, after it has been done, it can be seen from the number of rows and columns of each data is appropriate & the percentage of churn column is also the same as the data at the beginning, this indicates that the data is separated properly and correctly."
      ]
    },
    {
      "cell_type": "markdown",
      "metadata": {
        "id": "w1jZ3KEDqyrH"
      },
      "source": [
        "# Machine Learning Modeling\n",
        "\n",
        "We will create some machine learning models for this case. Then we choose the best model to use later."
      ]
    },
    {
      "cell_type": "markdown",
      "metadata": {
        "id": "dswsypYYabke"
      },
      "source": [
        "## Logistic Regression\n",
        "\n"
      ]
    },
    {
      "cell_type": "markdown",
      "metadata": {
        "id": "MU5cLu3oedta"
      },
      "source": [
        "### Modeling\n",
        "\n",
        "Next we will create a model using the **Logistic Regression** Algorithm.\n",
        "\n",
        "Use **LogisticRegression()** to call the algorithm, fit to the train data and save it as **log_model**"
      ]
    },
    {
      "cell_type": "code",
      "metadata": {
        "id": "5ujZrIkwqG1n",
        "colab": {
          "base_uri": "https://localhost:8080/"
        },
        "outputId": "6f125347-eeeb-44bd-b26d-cf4f11705ad4"
      },
      "source": [
        "log_model = LogisticRegression().fit(x_train,y_train)\n",
        "print('The Logistic Regression model formed is: \\n', log_model)"
      ],
      "execution_count": 13,
      "outputs": [
        {
          "output_type": "stream",
          "text": [
            "The Logistic Regression model formed is: \n",
            " LogisticRegression(C=1.0, class_weight=None, dual=False, fit_intercept=True,\n",
            "                   intercept_scaling=1, l1_ratio=None, max_iter=100,\n",
            "                   multi_class='auto', n_jobs=None, penalty='l2',\n",
            "                   random_state=None, solver='lbfgs', tol=0.0001, verbose=0,\n",
            "                   warm_start=False)\n"
          ],
          "name": "stdout"
        }
      ]
    },
    {
      "cell_type": "markdown",
      "metadata": {
        "id": "IfXU-zGnaytM"
      },
      "source": [
        "### Model Performance On Data Training - Display Metrics\n",
        "\n",
        "After we make the model, then do the calculations to get the classification report and the confusion matrix in the training data as shown below. Use **classification_report()** & **confusion_matrix()**."
      ]
    },
    {
      "cell_type": "code",
      "metadata": {
        "colab": {
          "base_uri": "https://localhost:8080/"
        },
        "id": "FiG0Clk2ao7F",
        "outputId": "153d905c-aece-4b99-9a30-2a9c3584aec4"
      },
      "source": [
        "# Predict\n",
        "y_train_pred = log_model.predict(x_train)\n",
        "# Print classification report\n",
        "print('Classification Report Training Model (Logistic Regression) :')\n",
        "print(classification_report(y_train, y_train_pred))"
      ],
      "execution_count": 14,
      "outputs": [
        {
          "output_type": "stream",
          "text": [
            "Classification Report Training Model (Logistic Regression) :\n",
            "              precision    recall  f1-score   support\n",
            "\n",
            "           0       0.83      0.90      0.87      3575\n",
            "           1       0.65      0.50      0.56      1290\n",
            "\n",
            "    accuracy                           0.79      4865\n",
            "   macro avg       0.74      0.70      0.71      4865\n",
            "weighted avg       0.78      0.79      0.79      4865\n",
            "\n"
          ],
          "name": "stdout"
        }
      ]
    },
    {
      "cell_type": "markdown",
      "metadata": {
        "id": "1RHXHiiia6n8"
      },
      "source": [
        "### Model Performance on Data Training - Display Confusion Matrix Plots\n",
        "\n",
        "After getting the results of the classification report in the previous stage, now we will visualize the report."
      ]
    },
    {
      "cell_type": "code",
      "metadata": {
        "colab": {
          "base_uri": "https://localhost:8080/",
          "height": 331
        },
        "id": "rnUmKy4Oa2Mu",
        "outputId": "0b4457b4-f15f-409b-c0af-aa7823c02f74"
      },
      "source": [
        "# Form confusion matrix as a DataFrame\n",
        "confusion_matrix_df = pd.DataFrame((confusion_matrix(y_train, y_train_pred)), ('No churn', 'Churn'), ('No churn', 'Churn'))\n",
        "\n",
        "# Plot confusion matrix\n",
        "plt.figure()\n",
        "heatmap = sns.heatmap(confusion_matrix_df, annot=True, annot_kws={'size': 14}, fmt='d', cmap='YlGnBu')\n",
        "heatmap.yaxis.set_ticklabels(heatmap.yaxis.get_ticklabels(), rotation=0, ha='right', fontsize=14)\n",
        "heatmap.xaxis.set_ticklabels(heatmap.xaxis.get_ticklabels(), rotation=0, ha='right', fontsize=14)\n",
        "\n",
        "plt.title('Confusion Matrix for Training Model\\n(Logistic Regression)', fontsize=18, color='darkblue')\n",
        "plt.ylabel('True label', fontsize=14)\n",
        "plt.xlabel('Predicted label', fontsize=14)\n",
        "plt.show()"
      ],
      "execution_count": 15,
      "outputs": [
        {
          "output_type": "display_data",
          "data": {
            "image/png": "[encoded data removed]",
            "text/plain": [
              "<Figure size 432x288 with 2 Axes>"
            ]
          },
          "metadata": {
            "tags": []
          }
        }
      ]
    },
    {
      "cell_type": "markdown",
      "metadata": {
        "id": "xY1v1WCpbDAq"
      },
      "source": [
        "### Model Performance on Data Testing - Display Metrics\n",
        "\n",
        "After we make the model, then do the calculations to get the classification report and the confusion matrix in the data testing as shown below.\n",
        "\n",
        "Use **classification_report()** & **confusion_matrix()**."
      ]
    },
    {
      "cell_type": "code",
      "metadata": {
        "colab": {
          "base_uri": "https://localhost:8080/"
        },
        "id": "xAIAOMmja8wO",
        "outputId": "8ebf2fdb-b2f3-4d32-bf6b-5820681166d6"
      },
      "source": [
        "# Predict\n",
        "y_test_pred = log_model.predict(x_test)\n",
        "# Print classification report \n",
        "print('Classification Report Testing Model (Logistic Regression) :')\n",
        "print(classification_report(y_test, y_test_pred))"
      ],
      "execution_count": 16,
      "outputs": [
        {
          "output_type": "stream",
          "text": [
            "Classification Report Testing Model (Logistic Regression) :\n",
            "              precision    recall  f1-score   support\n",
            "\n",
            "           0       0.83      0.90      0.87      1539\n",
            "           1       0.64      0.49      0.56       546\n",
            "\n",
            "    accuracy                           0.79      2085\n",
            "   macro avg       0.74      0.70      0.71      2085\n",
            "weighted avg       0.78      0.79      0.79      2085\n",
            "\n"
          ],
          "name": "stdout"
        }
      ]
    },
    {
      "cell_type": "markdown",
      "metadata": {
        "id": "rYAVd6ZCbIbK"
      },
      "source": [
        "### Model Performance on Data Testing - Display Confusion Matrix Plots\n",
        "\n",
        "After displaying the metrics in the previous stage, now we will visualize the metrics that have been generated previously"
      ]
    },
    {
      "cell_type": "code",
      "metadata": {
        "colab": {
          "base_uri": "https://localhost:8080/",
          "height": 351
        },
        "id": "YjTcPFFObFln",
        "outputId": "4a0aba4d-3d4a-4912-b30b-b42fffcfd44b"
      },
      "source": [
        "# Form confusion matrix as a DataFrame\n",
        "confusion_matrix_df = pd.DataFrame((confusion_matrix(y_test, y_test_pred)), ('No churn', 'Churn'), ('No churn', 'Churn'))\n",
        "\n",
        "# Plot confusion matrix\n",
        "plt.figure()\n",
        "heatmap = sns.heatmap(confusion_matrix_df, annot=True, annot_kws={'size': 14}, fmt='d', cmap='YlGnBu')\n",
        "heatmap.yaxis.set_ticklabels(heatmap.yaxis.get_ticklabels(), rotation=0, ha='right', fontsize=14)\n",
        "heatmap.xaxis.set_ticklabels(heatmap.xaxis.get_ticklabels(), rotation=0, ha='right', fontsize=14)\n",
        "\n",
        "plt.title('Confusion Matrix for Testing Model\\n(Logistic Regression)\\n', fontsize=18, color='darkblue')\n",
        "plt.ylabel('True label', fontsize=14)\n",
        "plt.xlabel('Predicted label', fontsize=14)\n",
        "plt.show()"
      ],
      "execution_count": 17,
      "outputs": [
        {
          "output_type": "display_data",
          "data": {
            "image/png": "[encoded data removed]",
            "text/plain": [
              "<Figure size 432x288 with 2 Axes>"
            ]
          },
          "metadata": {
            "tags": []
          }
        }
      ]
    },
    {
      "cell_type": "markdown",
      "metadata": {
        "id": "hlcxYq1ebU_L"
      },
      "source": [
        "### Conclusion\n",
        "\n",
        "From the results and analysis above, then:\n",
        "\n",
        "* If we use the logistic regression algorithm by calling LogisticRegression() from sklearn without adding any parameters, then the resulting model with default settings from sklearn, details can be seen in the documentation.\n",
        "\n",
        "* From the training data, it can be seen that the model is able to predict the data with an accuracy of 79%, with details of the correct churn guess, the churn is 645, the non-churn guess that doesn't actually churn is 3221, the non-churn guess that actually churns is 645 and the churn guess which actually doesn't churn is 354.\n",
        "\n",
        "* From the data testing, it can be seen that the model is able to predict the data by producing an accuracy of 79%, with the details of the correct churn guess, the churn is 267, the non-churn guess that doesn't actually churn is 1390, the non-churn guess that actually has the churn is 279 and the churn guess which actually doesn't churn is 149."
      ]
    },
    {
      "cell_type": "markdown",
      "metadata": {
        "id": "Kg6ibFxpbaAl"
      },
      "source": [
        "## Random Forest Classifier"
      ]
    },
    {
      "cell_type": "markdown",
      "metadata": {
        "id": "-RTgElq7bdh5"
      },
      "source": [
        "### Modeling\n",
        "\n",
        "Next we will create a model using the **Random Forest Classifier** Algorithm.\n",
        "\n",
        "Use **RandomForestClassifier()** to call the algorithm, fit to train data and save as **rdf_model**"
      ]
    },
    {
      "cell_type": "code",
      "metadata": {
        "colab": {
          "base_uri": "https://localhost:8080/"
        },
        "id": "zn32UCr1bNM8",
        "outputId": "9e31f6dd-e961-42f0-e6d4-bd96d2f9edc8"
      },
      "source": [
        "#Train the model\n",
        "rdf_model = RandomForestClassifier().fit(x_train,y_train)\n",
        "print(rdf_model)"
      ],
      "execution_count": 18,
      "outputs": [
        {
          "output_type": "stream",
          "text": [
            "RandomForestClassifier(bootstrap=True, ccp_alpha=0.0, class_weight=None,\n",
            "                       criterion='gini', max_depth=None, max_features='auto',\n",
            "                       max_leaf_nodes=None, max_samples=None,\n",
            "                       min_impurity_decrease=0.0, min_impurity_split=None,\n",
            "                       min_samples_leaf=1, min_samples_split=2,\n",
            "                       min_weight_fraction_leaf=0.0, n_estimators=100,\n",
            "                       n_jobs=None, oob_score=False, random_state=None,\n",
            "                       verbose=0, warm_start=False)\n"
          ],
          "name": "stdout"
        }
      ]
    },
    {
      "cell_type": "markdown",
      "metadata": {
        "id": "ZHwkpxstbmqr"
      },
      "source": [
        "### Model Performance On Data Training - Display Metrics\n",
        "\n",
        "After we make the model, then do the calculations to get the classification report and the confusion matrix in the **training data** as shown below.\n",
        "\n",
        "Use **classification_report()** & **confusion_matrix()**."
      ]
    },
    {
      "cell_type": "code",
      "metadata": {
        "colab": {
          "base_uri": "https://localhost:8080/"
        },
        "id": "jR1JA-uEbils",
        "outputId": "97a89137-8c29-4c13-f331-5e17aa32bdee"
      },
      "source": [
        "# Predict\n",
        "y_train_pred = rdf_model.predict(x_train)\n",
        "# Print classification report \n",
        "print('Classification Report Training Model (Random Forest) :')\n",
        "print(classification_report(y_train, y_train_pred))"
      ],
      "execution_count": 19,
      "outputs": [
        {
          "output_type": "stream",
          "text": [
            "Classification Report Training Model (Random Forest) :\n",
            "              precision    recall  f1-score   support\n",
            "\n",
            "           0       0.99      1.00      1.00      3575\n",
            "           1       1.00      0.99      0.99      1290\n",
            "\n",
            "    accuracy                           1.00      4865\n",
            "   macro avg       1.00      0.99      0.99      4865\n",
            "weighted avg       1.00      1.00      1.00      4865\n",
            "\n"
          ],
          "name": "stdout"
        }
      ]
    },
    {
      "cell_type": "markdown",
      "metadata": {
        "id": "MHbxFripbsAq"
      },
      "source": [
        "### Model Performance On Data Training - Display Confusion Matrix Plots\n",
        "\n",
        "After displaying the metrics in the previous stage, then we will visualize the metrics"
      ]
    },
    {
      "cell_type": "code",
      "metadata": {
        "colab": {
          "base_uri": "https://localhost:8080/",
          "height": 331
        },
        "id": "KNn8JCjpboQW",
        "outputId": "a67da0cb-915d-439c-9709-a619b2017e92"
      },
      "source": [
        "# Form confusion matrix as a DataFrame\n",
        "confusion_matrix_df = pd.DataFrame((confusion_matrix(y_train, y_train_pred)), ('No churn', 'Churn'), ('No churn', 'Churn'))\n",
        "\n",
        "# Plot confusion matrix\n",
        "plt.figure()\n",
        "heatmap = sns.heatmap(confusion_matrix_df, annot=True, annot_kws={'size': 14}, fmt='d', cmap='YlGnBu')\n",
        "heatmap.yaxis.set_ticklabels(heatmap.yaxis.get_ticklabels(), rotation=0, ha='right', fontsize=14)\n",
        "heatmap.xaxis.set_ticklabels(heatmap.xaxis.get_ticklabels(), rotation=0, ha='right', fontsize=14)\n",
        "\n",
        "plt.title('Confusion Matrix for Training Model\\n(Random Forest)', fontsize=18, color='darkblue')\n",
        "plt.ylabel('True label', fontsize=14)\n",
        "plt.xlabel('Predicted label', fontsize=14)\n",
        "plt.show()"
      ],
      "execution_count": 20,
      "outputs": [
        {
          "output_type": "display_data",
          "data": {
            "image/png": "[encoded data removed]",
            "text/plain": [
              "<Figure size 432x288 with 2 Axes>"
            ]
          },
          "metadata": {
            "tags": []
          }
        }
      ]
    },
    {
      "cell_type": "markdown",
      "metadata": {
        "id": "QbyM14zmbzq6"
      },
      "source": [
        "### Model Performance On Data Testing - Display Metrics\n",
        "\n",
        "After we make the model, then do the calculations to get the classification report and the confusion matrix in **data testing** as shown below.\n",
        "\n",
        "Use **classification_report()** & **confusion_matrix()**."
      ]
    },
    {
      "cell_type": "code",
      "metadata": {
        "colab": {
          "base_uri": "https://localhost:8080/"
        },
        "id": "PoChHoXRbvzQ",
        "outputId": "0b9d7b9a-8e5f-4708-9a75-6ec8a0548f5b"
      },
      "source": [
        "# Predict\n",
        "y_test_pred = rdf_model.predict(x_test)\n",
        "# Print classification report \n",
        "print('Classification Report Testing Model (Random Forest) :')\n",
        "print(classification_report(y_test, y_test_pred))"
      ],
      "execution_count": 21,
      "outputs": [
        {
          "output_type": "stream",
          "text": [
            "Classification Report Testing Model (Random Forest) :\n",
            "              precision    recall  f1-score   support\n",
            "\n",
            "           0       0.82      0.89      0.85      1539\n",
            "           1       0.59      0.47      0.52       546\n",
            "\n",
            "    accuracy                           0.78      2085\n",
            "   macro avg       0.71      0.68      0.69      2085\n",
            "weighted avg       0.76      0.78      0.77      2085\n",
            "\n"
          ],
          "name": "stdout"
        }
      ]
    },
    {
      "cell_type": "markdown",
      "metadata": {
        "id": "KbLs0GKnb6Fi"
      },
      "source": [
        "### Model Performance On Data Testing - Display Confusion Matrix Plots\n",
        "\n",
        "Show a visualization of the results of the metrics that have been obtained in the previous stage"
      ]
    },
    {
      "cell_type": "code",
      "metadata": {
        "colab": {
          "base_uri": "https://localhost:8080/",
          "height": 351
        },
        "id": "Czeyaw9ub2IY",
        "outputId": "73b775ed-38a6-4a05-c72b-305d1eb671ac"
      },
      "source": [
        "# Form confusion matrix as a DataFrame\n",
        "confusion_matrix_df = pd.DataFrame((confusion_matrix(y_test, y_test_pred)), ('No churn', 'Churn'), ('No churn', 'Churn'))\n",
        "\n",
        "# Plot confusion matrix\n",
        "plt.figure()\n",
        "heatmap = sns.heatmap(confusion_matrix_df, annot=True, annot_kws={'size': 14}, fmt='d', cmap='YlGnBu')\n",
        "heatmap.yaxis.set_ticklabels(heatmap.yaxis.get_ticklabels(), rotation=0, ha='right', fontsize=14)\n",
        "heatmap.xaxis.set_ticklabels(heatmap.xaxis.get_ticklabels(), rotation=0, ha='right', fontsize=14)\n",
        "\n",
        "plt.title('Confusion Matrix for Testing Model\\n(Random Forest)\\n', fontsize=18, color='darkblue')\n",
        "plt.ylabel('True label', fontsize=14)\n",
        "plt.xlabel('Predicted label', fontsize=14)\n",
        "plt.show()"
      ],
      "execution_count": 22,
      "outputs": [
        {
          "output_type": "display_data",
          "data": {
            "image/png": "[encoded data removed]",
            "text/plain": [
              "<Figure size 432x288 with 2 Axes>"
            ]
          },
          "metadata": {
            "tags": []
          }
        }
      ]
    },
    {
      "cell_type": "markdown",
      "metadata": {
        "id": "67qOkP_tcGhD"
      },
      "source": [
        "### Conclusion\n",
        "\n",
        "From the results and analysis above, then:\n",
        "\n",
        "* If we use the Random Forest algorithm by calling **RandomForestClassifier()** from sklearn without adding any parameters, the resulting model with the default settings of sklearn, for details can be seen in the documentation.\n",
        "\n",
        "* From the training data, it can be seen that the model is able to predict the data with an accuracy of 100%, with details of the correct churn guess, the churn is 1272, the non-churn guess that doesn't actually churn is 3570, the no-churn guess that actually churns is 18 and the churn guess which actually doesn't churn is 5.\n",
        "\n",
        "* From the data testing, it can be seen that the model is able to predict the data with an accuracy of 78%, with the details of the correct churn guess that actually churn is 256, the non-churn guess that doesn't actually churn is 1363, the non-churn guess that actually churn is 290 and the churn guess which actually doesn't churn is 1176."
      ]
    },
    {
      "cell_type": "markdown",
      "metadata": {
        "id": "Y1VvWAENcKXr"
      },
      "source": [
        "## Gradient Boosting Classifier"
      ]
    },
    {
      "cell_type": "markdown",
      "metadata": {
        "id": "7OBAm10kcNZT"
      },
      "source": [
        "### Modeling\n",
        "\n",
        "Next we will create a model using the Gradient Boosting Classifier Algorithm.\n",
        "\n",
        " \n",
        "Use **GradientBoostingClassifier()** to call the algorithm, fit to train data and save as **gbt_model**"
      ]
    },
    {
      "cell_type": "code",
      "metadata": {
        "colab": {
          "base_uri": "https://localhost:8080/"
        },
        "id": "_HgkJcbzb74E",
        "outputId": "ed0a825f-a6db-4a0a-eb16-b8954275703d"
      },
      "source": [
        "from sklearn.ensemble import GradientBoostingClassifier\n",
        "#Train the model\n",
        "gbt_model = GradientBoostingClassifier().fit(x_train,y_train)\n",
        "print(gbt_model)"
      ],
      "execution_count": 23,
      "outputs": [
        {
          "output_type": "stream",
          "text": [
            "GradientBoostingClassifier(ccp_alpha=0.0, criterion='friedman_mse', init=None,\n",
            "                           learning_rate=0.1, loss='deviance', max_depth=3,\n",
            "                           max_features=None, max_leaf_nodes=None,\n",
            "                           min_impurity_decrease=0.0, min_impurity_split=None,\n",
            "                           min_samples_leaf=1, min_samples_split=2,\n",
            "                           min_weight_fraction_leaf=0.0, n_estimators=100,\n",
            "                           n_iter_no_change=None, presort='deprecated',\n",
            "                           random_state=None, subsample=1.0, tol=0.0001,\n",
            "                           validation_fraction=0.1, verbose=0,\n",
            "                           warm_start=False)\n"
          ],
          "name": "stdout"
        }
      ]
    },
    {
      "cell_type": "markdown",
      "metadata": {
        "id": "CvIbAxTCcTLT"
      },
      "source": [
        "### Model Performance On Data Training - Display Metrics\n",
        "\n",
        "After we make the model, then do the calculations to get the classification report and the confusion matrix in the training data as shown below.\n",
        "\n",
        "Use **classification_report()** & **confusion_matrix()**."
      ]
    },
    {
      "cell_type": "code",
      "metadata": {
        "colab": {
          "base_uri": "https://localhost:8080/"
        },
        "id": "Ex0QoSsXcQ5L",
        "outputId": "21a3c567-a609-4f60-c9a7-5f531b5f1bce"
      },
      "source": [
        "# Predict\n",
        "y_train_pred = gbt_model.predict(x_train)\n",
        "# Print classification report \n",
        "print('Classification Report Training Model (Gradient Boosting) :')\n",
        "print(classification_report(y_train, y_train_pred))"
      ],
      "execution_count": 24,
      "outputs": [
        {
          "output_type": "stream",
          "text": [
            "Classification Report Training Model (Gradient Boosting) :\n",
            "              precision    recall  f1-score   support\n",
            "\n",
            "           0       0.84      0.92      0.88      3575\n",
            "           1       0.70      0.53      0.60      1290\n",
            "\n",
            "    accuracy                           0.82      4865\n",
            "   macro avg       0.77      0.72      0.74      4865\n",
            "weighted avg       0.81      0.82      0.81      4865\n",
            "\n"
          ],
          "name": "stdout"
        }
      ]
    },
    {
      "cell_type": "markdown",
      "metadata": {
        "id": "8lwvxOEmcaJD"
      },
      "source": [
        "### Model Performance On Data Training - Display Confusion Matrix Plots\n",
        "\n",
        "Show a visualization of the results of the metrics that have been obtained in the previous stage"
      ]
    },
    {
      "cell_type": "code",
      "metadata": {
        "colab": {
          "base_uri": "https://localhost:8080/",
          "height": 331
        },
        "id": "amhV6CLhcYYI",
        "outputId": "b8b15d84-1e30-4537-a3d4-0638679b9786"
      },
      "source": [
        "# Form confusion matrix as a DataFrame\n",
        "confusion_matrix_df = pd.DataFrame((confusion_matrix(y_train, y_train_pred)), ('No churn', 'Churn'), ('No churn', 'Churn'))\n",
        "\n",
        "# Plot confusion matrix\n",
        "plt.figure()\n",
        "heatmap = sns.heatmap(confusion_matrix_df, annot=True, annot_kws={'size': 14}, fmt='d', cmap='YlGnBu')\n",
        "heatmap.yaxis.set_ticklabels(heatmap.yaxis.get_ticklabels(), rotation=0, ha='right', fontsize=14)\n",
        "heatmap.xaxis.set_ticklabels(heatmap.xaxis.get_ticklabels(), rotation=0, ha='right', fontsize=14)\n",
        "\n",
        "plt.title('Confusion Matrix for Training Model\\n(Gradient Boosting)', fontsize=18, color='darkblue')\n",
        "plt.ylabel('True label', fontsize=14)\n",
        "plt.xlabel('Predicted label', fontsize=14)\n",
        "plt.show()"
      ],
      "execution_count": 25,
      "outputs": [
        {
          "output_type": "display_data",
          "data": {
            "image/png": "[encoded data removed]",
            "text/plain": [
              "<Figure size 432x288 with 2 Axes>"
            ]
          },
          "metadata": {
            "tags": []
          }
        }
      ]
    },
    {
      "cell_type": "markdown",
      "metadata": {
        "id": "ym4w0kUtcgIK"
      },
      "source": [
        "### Model Performance on Data Testing - Displaying Metrics\n",
        "\n",
        "After we make the model, then do the calculations to get the classification report and the confusion matrix in the data testing as shown below.\n",
        "\n",
        "Use **classification_report()** & **confusion_matrix()**."
      ]
    },
    {
      "cell_type": "code",
      "metadata": {
        "colab": {
          "base_uri": "https://localhost:8080/"
        },
        "id": "wwVcu6E_ceUD",
        "outputId": "02d2b2bd-33ae-4804-ed32-c15a84c1ddc4"
      },
      "source": [
        "# Predict\n",
        "y_test_pred = gbt_model.predict(x_test)\n",
        "# Print classification report \n",
        "print('Classification Report Testing Model (Gradient Boosting) :')\n",
        "print(classification_report(y_test, y_test_pred))"
      ],
      "execution_count": 26,
      "outputs": [
        {
          "output_type": "stream",
          "text": [
            "Classification Report Testing Model (Gradient Boosting) :\n",
            "              precision    recall  f1-score   support\n",
            "\n",
            "           0       0.83      0.91      0.87      1539\n",
            "           1       0.64      0.48      0.55       546\n",
            "\n",
            "    accuracy                           0.79      2085\n",
            "   macro avg       0.74      0.69      0.71      2085\n",
            "weighted avg       0.78      0.79      0.78      2085\n",
            "\n"
          ],
          "name": "stdout"
        }
      ]
    },
    {
      "cell_type": "markdown",
      "metadata": {
        "id": "nOhMpC5fkRIP"
      },
      "source": [
        "### Model Performance On Data Testing - Display Confusion Matrix Plots\n",
        "\n",
        "Show a visualization of the results of the metrics that have been obtained in the previous stage"
      ]
    },
    {
      "cell_type": "code",
      "metadata": {
        "colab": {
          "base_uri": "https://localhost:8080/",
          "height": 331
        },
        "id": "cG2l2moXclCB",
        "outputId": "95f7b964-59ed-46e6-f2d7-bb715e90d9d3"
      },
      "source": [
        "# Form confusion matrix as a DataFrame\n",
        "confusion_matrix_df = pd.DataFrame((confusion_matrix(y_test, y_test_pred)), ('No churn', 'Churn'), ('No churn', 'Churn'))\n",
        "\n",
        "# Plot confusion matrix\n",
        "plt.figure()\n",
        "heatmap = sns.heatmap(confusion_matrix_df, annot=True, annot_kws={'size': 14}, fmt='d', cmap='YlGnBu')\n",
        "heatmap.yaxis.set_ticklabels(heatmap.yaxis.get_ticklabels(), rotation=0, ha='right', fontsize=14)\n",
        "heatmap.xaxis.set_ticklabels(heatmap.xaxis.get_ticklabels(), rotation=0, ha='right', fontsize=14)\n",
        "\n",
        "plt.title('Confusion Matrix for Testing Model\\n(Gradient Boosting)', fontsize=18, color='darkblue')\n",
        "plt.ylabel('True label', fontsize=14)\n",
        "plt.xlabel('Predicted label', fontsize=14)\n",
        "plt.show()"
      ],
      "execution_count": 27,
      "outputs": [
        {
          "output_type": "display_data",
          "data": {
            "image/png": "[encoded data removed]",
            "text/plain": [
              "<Figure size 432x288 with 2 Axes>"
            ]
          },
          "metadata": {
            "tags": []
          }
        }
      ]
    },
    {
      "cell_type": "markdown",
      "metadata": {
        "id": "wOhHv7dRcpri"
      },
      "source": [
        "### Conclusion\n",
        "\n",
        "From the results and analysis above, then:\n",
        "\n",
        "* If we use the Gradient Boosting algorithm by calling GradientBoostingClassifier() from the sklearn package without adding any parameters, the resulting model with the default settings of sklearn, for details can be seen in the documentation.\n",
        "\n",
        "* From the training data, it can be seen that the model is able to predict the data by producing an accuracy of 82%, with the details of the correct churn guess, the churn is 684, the non-churn guess that doesn't actually churn is 3286, the non-churn guess that actually churns is 606 and the churn guess which actually doesn't churn is 289.\n",
        "\n",
        "* From the data testing, it can be seen that the model is able to predict the data with an accuracy of 79%, with details of the correct churn guess, the churn is 261, the guess not churn that actually doesn't churn is 1394, the guess not churn that actually churn is 285 and the guess churn which actually doesn't churn is 145."
      ]
    },
    {
      "cell_type": "markdown",
      "metadata": {
        "id": "AKKpKLu8cu3O"
      },
      "source": [
        "# Determining the Best Model Algorithm"
      ]
    },
    {
      "cell_type": "markdown",
      "metadata": {
        "id": "Pe7Zk3vzc1UE"
      },
      "source": [
        "\n",
        "\n",
        "A good model is a model that is able to provide good performance in the training and testing phases of the model.\n",
        "\n",
        "* Over-Fitting is a condition where the model is able to predict very well in the training phase, but cannot predict as well in the testing phase.\n",
        "* Under-Fitting is a condition where the model is not able to predict well in the training phase, but is able to predict well in the testing phase.\n",
        "* Appropriate-Fitting is a condition where the model is able to predict well in the training phase and in the testing phase."
      ]
    },
    {
      "cell_type": "markdown",
      "metadata": {
        "id": "EpbucDQbc3i6"
      },
      "source": [
        "For detailed details, can be seen in the illustration below:\n",
        "\n",
        "<table>\n",
        "  <tr><td>\n",
        "    <img src=\"https://raw.githubusercontent.com/jokoeliyanto/ppp/main/images/download.png\">\n",
        "  </td></tr>\n",
        "<table>"
      ]
    },
    {
      "cell_type": "markdown",
      "metadata": {
        "id": "dWu05UeIdT6j"
      },
      "source": [
        "Next, we will determine the best algorithm model from the model that has been done above (Appropriate-Fitting), then we save it as a best_model_churn.pkl file with the aim of modeling later we don't need to repeat the modeling, just call the file. Save in the file directory according to the dataset, then check whether the file is properly saved or not. Use **dump()** from **pickle** to save the file. You can use the code below to save the model file to try on your local laptop."
      ]
    },
    {
      "cell_type": "code",
      "metadata": {
        "colab": {
          "base_uri": "https://localhost:8080/"
        },
        "id": "aLkymK-mcmXJ",
        "outputId": "cccedebb-fd4a-41ca-801f-f3718a4ef3a3"
      },
      "source": [
        "print(log_model)"
      ],
      "execution_count": 28,
      "outputs": [
        {
          "output_type": "stream",
          "text": [
            "LogisticRegression(C=1.0, class_weight=None, dual=False, fit_intercept=True,\n",
            "                   intercept_scaling=1, l1_ratio=None, max_iter=100,\n",
            "                   multi_class='auto', n_jobs=None, penalty='l2',\n",
            "                   random_state=None, solver='lbfgs', tol=0.0001, verbose=0,\n",
            "                   warm_start=False)\n"
          ],
          "name": "stdout"
        }
      ]
    },
    {
      "cell_type": "markdown",
      "metadata": {
        "id": "RnUUqSL8dYab"
      },
      "source": [
        "# Conclusion\n",
        "\n",
        "|              Model           | Accuracy Data Training | Accuracy Data Testing |\n",
        "| ---------------------------- | ---------------------- |-----------------------|\n",
        "| Logistic Regression          | 79 %                   |    79%                   |\n",
        "| Random Forest Classifier     | 100 % (Over-fitting)              |    78%                   |\n",
        "| Gradient Boosting Classifier | 82 %                  |        79%               |\n",
        "\n"
      ]
    },
    {
      "cell_type": "markdown",
      "metadata": {
        "id": "fnoc5AxOmgFV"
      },
      "source": [
        "Based on the results above, it is concluded that the best model is the Gradient Boosting Classifier model. This is due to the acquisition of accuracy on the testing data which is the same as the Logistic Regression model, but it has a higher accuracy on the training data. This value also does not include over-fitting."
      ]
    }
  ]
}