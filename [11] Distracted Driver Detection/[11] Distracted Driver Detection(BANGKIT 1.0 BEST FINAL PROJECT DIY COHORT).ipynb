{
 "cells": [
  {
   "cell_type": "markdown",
   "metadata": {},
   "source": [
    "<table>\n",
    "  <tr><td>\n",
    "    <img src=\"h11.png\">\n",
    "  </td></tr>\n",
    "<table>"
   ]
  },
  {
   "cell_type": "markdown",
   "metadata": {},
   "source": [
    "# Project Presentation Video\n",
    "\n"
   ]
  },
  {
   "cell_type": "code",
   "execution_count": null,
   "metadata": {
    "id": "sdajYxSFDS-M"
   },
   "outputs": [],
   "source": [
    "import random\n",
    "import time\n",
    "import tensorflow as tf\n",
    "\n",
    "import tempfile\n",
    "from sklearn.metrics import classification_report, confusion_matrix\n",
    "\n",
    "import numpy as np\n",
    "import pandas as pd\n",
    "import seaborn as sns \n",
    "%matplotlib inline\n",
    "from IPython.display import display, Image\n",
    "import matplotlib.image as mpimg\n",
    "import cv2\n",
    "import matplotlib.pyplot as plt\n",
    "\n",
    "from sklearn.model_selection import train_test_split\n",
    "from sklearn.datasets import load_files       \n",
    "from keras.utils import np_utils\n",
    "from sklearn.utils import shuffle\n",
    "\n",
    "from keras.preprocessing import image\n",
    "from tensorflow.keras.callbacks import ModelCheckpoint,EarlyStopping\n",
    "from keras.utils.vis_utils import plot_model\n",
    "from tensorflow.keras.models import Sequential, save_model,Model\n",
    "from tensorflow.keras.layers import Conv2D, MaxPooling2D, Flatten, Dense, Dropout, BatchNormalization, GlobalAveragePooling2D\n",
    "from tensorflow.keras.layers import Conv2D, MaxPooling2D"
   ]
  },
  {
   "cell_type": "code",
   "execution_count": null,
   "metadata": {
    "colab": {
     "base_uri": "https://localhost:8080/"
    },
    "id": "TZ89CKG9AKHm",
    "outputId": "64f079e8-f7b8-47ee-a5fb-d6773560559a"
   },
   "outputs": [
    {
     "name": "stdout",
     "output_type": "stream",
     "text": [
      "Mounted at /content/gdrive\n"
     ]
    }
   ],
   "source": [
    "from google.colab import drive\n",
    "#Membuka akses ke google drive\n",
    "drive.mount('/content/gdrive')"
   ]
  },
  {
   "cell_type": "code",
   "execution_count": null,
   "metadata": {
    "colab": {
     "base_uri": "https://localhost:8080/"
    },
    "id": "GjY5b3G1IfNT",
    "outputId": "2edc538b-36c8-4297-8aae-a9ab6e228514"
   },
   "outputs": [
    {
     "name": "stdout",
     "output_type": "stream",
     "text": [
      "Found 17493 images belonging to 10 classes.\n",
      "Found 4368 images belonging to 10 classes.\n",
      "Found 15720 images belonging to 1 classes.\n"
     ]
    }
   ],
   "source": [
    "IMAGE_SIZE = 224\n",
    "BATCH_SIZE = 32\n",
    "\n",
    "train_datagen = tf.keras.preprocessing.image.ImageDataGenerator(rescale=1./255,validation_split=0.2)\n",
    "   \n",
    "    \n",
    "test_datagen = tf.keras.preprocessing.image.ImageDataGenerator(\n",
    "    rescale=1./255)\n",
    "train_generator = train_datagen.flow_from_directory(\n",
    "    '/content/gdrive/MyDrive/Data Set/Distracted Driver Dataset/imgs/train_data', #change it into your train directory\n",
    "    target_size=(IMAGE_SIZE, IMAGE_SIZE),\n",
    "    batch_size=BATCH_SIZE,\n",
    "    class_mode=\"categorical\",\n",
    "    subset='training',\n",
    "    shuffle=True)\n",
    "\n",
    "\n",
    "val_generator = train_datagen.flow_from_directory(\n",
    "   '/content/gdrive/MyDrive/Data Set/Distracted Driver Dataset/imgs/train_data', #change it into your train directory\n",
    "    target_size=(IMAGE_SIZE, IMAGE_SIZE),\n",
    "    batch_size=BATCH_SIZE, \n",
    "    class_mode=\"categorical\",\n",
    "    subset='validation',\n",
    "    shuffle=True)\n",
    "\n",
    "\n",
    "test_generator = test_datagen.flow_from_directory(\n",
    "   '/content/gdrive/MyDrive/Data Set/Distracted Driver Dataset/imgs/test_data', #change it into your test directory\n",
    "    target_size=(IMAGE_SIZE, IMAGE_SIZE),\n",
    "    batch_size=BATCH_SIZE, \n",
    "    class_mode=None,\n",
    "    shuffle=False)"
   ]
  },
  {
   "cell_type": "code",
   "execution_count": null,
   "metadata": {
    "colab": {
     "base_uri": "https://localhost:8080/"
    },
    "id": "eGG951B2LzFQ",
    "outputId": "5ab11455-d24d-4642-bd7f-4b27de65ddec"
   },
   "outputs": [
    {
     "data": {
      "text/plain": [
       "((32, 224, 224, 3), (32, 10))"
      ]
     },
     "execution_count": 5,
     "metadata": {
      "tags": []
     },
     "output_type": "execute_result"
    }
   ],
   "source": [
    "for image_batch, label_batch in train_generator:\n",
    "  break\n",
    "image_batch.shape, label_batch.shape #Print the batch size and labels."
   ]
  },
  {
   "cell_type": "code",
   "execution_count": null,
   "metadata": {
    "colab": {
     "base_uri": "https://localhost:8080/"
    },
    "id": "7oEA1JhfM8iP",
    "outputId": "d5aa281c-d16a-45db-db25-4a7d3e54186f"
   },
   "outputs": [
    {
     "name": "stdout",
     "output_type": "stream",
     "text": [
      "{'c0': 0, 'c1': 1, 'c2': 2, 'c3': 3, 'c4': 4, 'c5': 5, 'c6': 6, 'c7': 7, 'c8': 8, 'c9': 9}\n"
     ]
    }
   ],
   "source": [
    "print (train_generator.class_indices)\n",
    "\n",
    "labels = '\\n'.join(sorted(train_generator.class_indices.keys()))\n",
    "\n",
    "with open('labels.txt', 'w') as f:\n",
    "  f.write(labels)"
   ]
  },
  {
   "cell_type": "code",
   "execution_count": null,
   "metadata": {
    "colab": {
     "base_uri": "https://localhost:8080/"
    },
    "id": "gpwsLq20VWVS",
    "outputId": "c51559c4-c9c1-4abd-f75b-9dc9e316630f"
   },
   "outputs": [
    {
     "name": "stdout",
     "output_type": "stream",
     "text": [
      "Model: \"sequential\"\n",
      "_________________________________________________________________\n",
      "Layer (type)                 Output Shape              Param #   \n",
      "=================================================================\n",
      "conv2d (Conv2D)              (None, 222, 222, 512)     14336     \n",
      "_________________________________________________________________\n",
      "max_pooling2d (MaxPooling2D) (None, 111, 111, 512)     0         \n",
      "_________________________________________________________________\n",
      "conv2d_1 (Conv2D)            (None, 109, 109, 256)     1179904   \n",
      "_________________________________________________________________\n",
      "max_pooling2d_1 (MaxPooling2 (None, 54, 54, 256)       0         \n",
      "_________________________________________________________________\n",
      "conv2d_2 (Conv2D)            (None, 52, 52, 128)       295040    \n",
      "_________________________________________________________________\n",
      "max_pooling2d_2 (MaxPooling2 (None, 26, 26, 128)       0         \n",
      "_________________________________________________________________\n",
      "conv2d_3 (Conv2D)            (None, 24, 24, 64)        73792     \n",
      "_________________________________________________________________\n",
      "max_pooling2d_3 (MaxPooling2 (None, 12, 12, 64)        0         \n",
      "_________________________________________________________________\n",
      "flatten (Flatten)            (None, 9216)              0         \n",
      "_________________________________________________________________\n",
      "dense (Dense)                (None, 512)               4719104   \n",
      "_________________________________________________________________\n",
      "dense_1 (Dense)              (None, 10)                5130      \n",
      "=================================================================\n",
      "Total params: 6,287,306\n",
      "Trainable params: 6,287,306\n",
      "Non-trainable params: 0\n",
      "_________________________________________________________________\n"
     ]
    }
   ],
   "source": [
    "model1 = tf.keras.models.Sequential([\n",
    "    tf.keras.layers.Conv2D(512, (3, 3), activation='relu', input_shape=(224, 224, 3)),\n",
    "    tf.keras.layers.MaxPooling2D(2, 2),\n",
    "    tf.keras.layers.Conv2D(256, (3, 3), activation='relu'),\n",
    "    tf.keras.layers.MaxPooling2D(2, 2),\n",
    "    tf.keras.layers.Conv2D(128, (3, 3), activation='relu'),\n",
    "    tf.keras.layers.MaxPooling2D(2, 2),\n",
    "    tf.keras.layers.Conv2D(64, (3, 3), activation='relu'),\n",
    "    tf.keras.layers.MaxPooling2D(2, 2),\n",
    "    tf.keras.layers.Flatten(),\n",
    "    tf.keras.layers.Dense(512, activation=tf.nn.relu),\n",
    "    tf.keras.layers.Dense(10, activation=tf.nn.softmax)])\n",
    "\n",
    "checkpointer = tf.keras.callbacks.ModelCheckpoint('cnn_stratch_best.hdf5', verbose=1, save_best_only=True)\n",
    "earlystop = EarlyStopping(monitor='val_accuracy', patience=2, verbose=1)\n",
    "opt = tf.keras.optimizers.Adam(learning_rate=0.0001) \n",
    "model1.compile(optimizer=opt,\n",
    "              loss='categorical_crossentropy',\n",
    "              metrics=['accuracy'])\n",
    "\n",
    "model1.summary()"
   ]
  },
  {
   "cell_type": "code",
   "execution_count": null,
   "metadata": {
    "colab": {
     "base_uri": "https://localhost:8080/"
    },
    "id": "EUX88aljV6-K",
    "outputId": "b1d2c4a1-0044-402c-d8de-e4c56af346bd",
    "scrolled": true
   },
   "outputs": [
    {
     "name": "stdout",
     "output_type": "stream",
     "text": [
      "Epoch 1/10\n",
      "547/547 [==============================] - 6493s 12s/step - loss: 0.7426 - accuracy: 0.7464 - val_loss: 0.1267 - val_accuracy: 0.9638\n",
      "\n",
      "Epoch 00001: val_loss improved from inf to 0.12670, saving model to cnn_stratch_best.hdf5\n",
      "Epoch 2/10\n",
      "547/547 [==============================] - 311s 569ms/step - loss: 0.0746 - accuracy: 0.9799 - val_loss: 0.0634 - val_accuracy: 0.9831\n",
      "\n",
      "Epoch 00002: val_loss improved from 0.12670 to 0.06343, saving model to cnn_stratch_best.hdf5\n",
      "Epoch 3/10\n",
      "547/547 [==============================] - 325s 594ms/step - loss: 0.0310 - accuracy: 0.9912 - val_loss: 0.0513 - val_accuracy: 0.9872\n",
      "\n",
      "Epoch 00003: val_loss improved from 0.06343 to 0.05131, saving model to cnn_stratch_best.hdf5\n",
      "Epoch 4/10\n",
      "547/547 [==============================] - 323s 591ms/step - loss: 0.0240 - accuracy: 0.9929 - val_loss: 0.0683 - val_accuracy: 0.9837\n",
      "\n",
      "Epoch 00004: val_loss did not improve from 0.05131\n",
      "Epoch 5/10\n",
      "547/547 [==============================] - 323s 591ms/step - loss: 0.0178 - accuracy: 0.9942 - val_loss: 0.0650 - val_accuracy: 0.9865\n",
      "\n",
      "Epoch 00005: val_loss did not improve from 0.05131\n",
      "Epoch 00005: early stopping\n"
     ]
    }
   ],
   "source": [
    "history = model1.fit(train_generator, \n",
    "                    steps_per_epoch=len(train_generator), \n",
    "                    epochs=10, \n",
    "                    validation_data=val_generator, \n",
    "                    validation_steps=len(val_generator),callbacks=[checkpointer,earlystop])"
   ]
  },
  {
   "cell_type": "code",
   "execution_count": null,
   "metadata": {
    "id": "KUyYHABTZ_65"
   },
   "outputs": [],
   "source": [
    "def plot_train_history(history):\n",
    "    # Summarize history for accuracy\n",
    "    plt.plot(history.history['accuracy'])\n",
    "    plt.plot(history.history['val_accuracy'])\n",
    "    plt.title('Model accuracy')\n",
    "    plt.ylabel('accuracy')\n",
    "    plt.xlabel('epoch')\n",
    "    plt.legend(['train', 'test'], loc='upper left')\n",
    "    plt.show()\n",
    "\n",
    "    # Summarize history for loss\n",
    "    plt.plot(history.history['loss'])\n",
    "    plt.plot(history.history['val_loss'])\n",
    "    plt.title('Model loss')\n",
    "    plt.ylabel('loss')\n",
    "    plt.xlabel('epoch')\n",
    "    plt.legend(['train', 'test'], loc='upper left')\n",
    "    plt.show()"
   ]
  },
  {
   "cell_type": "code",
   "execution_count": null,
   "metadata": {
    "colab": {
     "base_uri": "https://localhost:8080/",
     "height": 573
    },
    "id": "Iv_QUr7dnunv",
    "outputId": "ae1e4506-9bb8-4a12-b242-e71c23be99a5"
   },
   "outputs": [
    {
     "data": {
      "image/png": "[encoded data removed]",
      "text/plain": [
       "<Figure size 432x288 with 1 Axes>"
      ]
     },
     "metadata": {
      "needs_background": "light",
      "tags": []
     },
     "output_type": "display_data"
    },
    {
     "data": {
      "image/png": "[encoded data removed]",
      "text/plain": [
       "<Figure size 432x288 with 1 Axes>"
      ]
     },
     "metadata": {
      "needs_background": "light",
      "tags": []
     },
     "output_type": "display_data"
    }
   ],
   "source": [
    "plot_train_history(history)"
   ]
  },
  {
   "cell_type": "code",
   "execution_count": null,
   "metadata": {
    "id": "2btTZlOTWdDy"
   },
   "outputs": [],
   "source": [
    "model1.save_weights('model1_weights.h5')\n",
    "model1.save('model1.h5')"
   ]
  },
  {
   "cell_type": "code",
   "execution_count": null,
   "metadata": {
    "colab": {
     "base_uri": "https://localhost:8080/"
    },
    "id": "yEHok6TcTCsn",
    "outputId": "5dc323fb-878d-41a9-e9ec-b7117707389e"
   },
   "outputs": [
    {
     "name": "stdout",
     "output_type": "stream",
     "text": [
      "Downloading data from https://storage.googleapis.com/tensorflow/keras-applications/mobilenet/mobilenet_1_0_224_tf_no_top.h5\n",
      "17227776/17225924 [==============================] - 0s 0us/step\n"
     ]
    }
   ],
   "source": [
    "IMG_SHAPE = (IMAGE_SIZE, IMAGE_SIZE, 3)\n",
    "\n",
    "mobnet = tf.keras.applications.MobileNet(input_shape=IMG_SHAPE,\n",
    "                                        include_top=False, \n",
    "                                         weights='imagenet')\n",
    "mobnet.trainable=False"
   ]
  },
  {
   "cell_type": "code",
   "execution_count": null,
   "metadata": {
    "id": "HjGLAXa3q9n6"
   },
   "outputs": [],
   "source": [
    "model2 = tf.keras.Sequential([\n",
    "  mobnet,\n",
    "  tf.keras.layers.Conv2D(1024, 3, activation='relu'),\n",
    "  tf.keras.layers.Dropout(0.2),\n",
    "  tf.keras.layers.GlobalAveragePooling2D(),\n",
    "  tf.keras.layers.Dense(10, activation='softmax')\n",
    "])"
   ]
  },
  {
   "cell_type": "code",
   "execution_count": null,
   "metadata": {
    "colab": {
     "base_uri": "https://localhost:8080/"
    },
    "id": "49wXHVogq9n8",
    "outputId": "fa021172-3079-4723-bc06-623c6c5180d3"
   },
   "outputs": [
    {
     "name": "stdout",
     "output_type": "stream",
     "text": [
      "Model: \"sequential_1\"\n",
      "_________________________________________________________________\n",
      "Layer (type)                 Output Shape              Param #   \n",
      "=================================================================\n",
      "mobilenet_1.00_224 (Function (None, 7, 7, 1024)        3228864   \n",
      "_________________________________________________________________\n",
      "conv2d_4 (Conv2D)            (None, 5, 5, 1024)        9438208   \n",
      "_________________________________________________________________\n",
      "dropout (Dropout)            (None, 5, 5, 1024)        0         \n",
      "_________________________________________________________________\n",
      "global_average_pooling2d (Gl (None, 1024)              0         \n",
      "_________________________________________________________________\n",
      "dense_2 (Dense)              (None, 10)                10250     \n",
      "=================================================================\n",
      "Total params: 12,677,322\n",
      "Trainable params: 9,448,458\n",
      "Non-trainable params: 3,228,864\n",
      "_________________________________________________________________\n"
     ]
    }
   ],
   "source": [
    "checkpointer = tf.keras.callbacks.ModelCheckpoint('mobnet_wo_ft.hdf5', verbose=1, save_best_only=True)\n",
    "earlystop = EarlyStopping(monitor='val_accuracy', patience=10, verbose=1)\n",
    "model2.compile(optimizer=tf.keras.optimizers.Adam(1e-5), \n",
    "              loss='categorical_crossentropy', \n",
    "              metrics=['accuracy'])\n",
    "model2.summary()"
   ]
  },
  {
   "cell_type": "code",
   "execution_count": null,
   "metadata": {
    "colab": {
     "base_uri": "https://localhost:8080/"
    },
    "id": "nlLaeVi-q9n_",
    "outputId": "f7438af5-a276-479b-9208-31e2c7e56e4c"
   },
   "outputs": [
    {
     "name": "stdout",
     "output_type": "stream",
     "text": [
      "Epoch 1/20\n",
      "547/547 [==============================] - 142s 256ms/step - loss: 0.6869 - accuracy: 0.8305 - val_loss: 0.2124 - val_accuracy: 0.9609\n",
      "\n",
      "Epoch 00001: val_loss improved from inf to 0.21235, saving model to mobnet_wo_ft.hdf5\n",
      "Epoch 2/20\n",
      "547/547 [==============================] - 139s 254ms/step - loss: 0.1480 - accuracy: 0.9719 - val_loss: 0.1227 - val_accuracy: 0.9741\n",
      "\n",
      "Epoch 00002: val_loss improved from 0.21235 to 0.12272, saving model to mobnet_wo_ft.hdf5\n",
      "Epoch 3/20\n",
      "547/547 [==============================] - 139s 254ms/step - loss: 0.0842 - accuracy: 0.9854 - val_loss: 0.0836 - val_accuracy: 0.9824\n",
      "\n",
      "Epoch 00003: val_loss improved from 0.12272 to 0.08365, saving model to mobnet_wo_ft.hdf5\n",
      "Epoch 4/20\n",
      "547/547 [==============================] - 139s 255ms/step - loss: 0.0572 - accuracy: 0.9901 - val_loss: 0.0626 - val_accuracy: 0.9867\n",
      "\n",
      "Epoch 00004: val_loss improved from 0.08365 to 0.06259, saving model to mobnet_wo_ft.hdf5\n",
      "Epoch 5/20\n",
      "547/547 [==============================] - 138s 253ms/step - loss: 0.0395 - accuracy: 0.9942 - val_loss: 0.0492 - val_accuracy: 0.9886\n",
      "\n",
      "Epoch 00005: val_loss improved from 0.06259 to 0.04920, saving model to mobnet_wo_ft.hdf5\n",
      "Epoch 6/20\n",
      "547/547 [==============================] - 139s 255ms/step - loss: 0.0301 - accuracy: 0.9952 - val_loss: 0.0475 - val_accuracy: 0.9888\n",
      "\n",
      "Epoch 00006: val_loss improved from 0.04920 to 0.04752, saving model to mobnet_wo_ft.hdf5\n",
      "Epoch 7/20\n",
      "547/547 [==============================] - 138s 253ms/step - loss: 0.0214 - accuracy: 0.9977 - val_loss: 0.0397 - val_accuracy: 0.9888\n",
      "\n",
      "Epoch 00007: val_loss improved from 0.04752 to 0.03968, saving model to mobnet_wo_ft.hdf5\n",
      "Epoch 8/20\n",
      "547/547 [==============================] - 138s 253ms/step - loss: 0.0170 - accuracy: 0.9978 - val_loss: 0.0476 - val_accuracy: 0.9876\n",
      "\n",
      "Epoch 00008: val_loss did not improve from 0.03968\n",
      "Epoch 9/20\n",
      "547/547 [==============================] - 139s 253ms/step - loss: 0.0124 - accuracy: 0.9994 - val_loss: 0.0305 - val_accuracy: 0.9911\n",
      "\n",
      "Epoch 00009: val_loss improved from 0.03968 to 0.03048, saving model to mobnet_wo_ft.hdf5\n",
      "Epoch 10/20\n",
      "547/547 [==============================] - 138s 253ms/step - loss: 0.0101 - accuracy: 0.9993 - val_loss: 0.0316 - val_accuracy: 0.9904\n",
      "\n",
      "Epoch 00010: val_loss did not improve from 0.03048\n",
      "Epoch 11/20\n",
      "547/547 [==============================] - 139s 254ms/step - loss: 0.0082 - accuracy: 0.9994 - val_loss: 0.0324 - val_accuracy: 0.9904\n",
      "\n",
      "Epoch 00011: val_loss did not improve from 0.03048\n",
      "Epoch 12/20\n",
      "547/547 [==============================] - 138s 253ms/step - loss: 0.0067 - accuracy: 0.9996 - val_loss: 0.0343 - val_accuracy: 0.9890\n",
      "\n",
      "Epoch 00012: val_loss did not improve from 0.03048\n",
      "Epoch 13/20\n",
      "547/547 [==============================] - 139s 254ms/step - loss: 0.0050 - accuracy: 0.9999 - val_loss: 0.0297 - val_accuracy: 0.9904\n",
      "\n",
      "Epoch 00013: val_loss improved from 0.03048 to 0.02973, saving model to mobnet_wo_ft.hdf5\n",
      "Epoch 14/20\n",
      "547/547 [==============================] - 138s 253ms/step - loss: 0.0038 - accuracy: 1.0000 - val_loss: 0.0298 - val_accuracy: 0.9904\n",
      "\n",
      "Epoch 00014: val_loss did not improve from 0.02973\n",
      "Epoch 15/20\n",
      "547/547 [==============================] - 139s 254ms/step - loss: 0.0030 - accuracy: 1.0000 - val_loss: 0.0242 - val_accuracy: 0.9929\n",
      "\n",
      "Epoch 00015: val_loss improved from 0.02973 to 0.02420, saving model to mobnet_wo_ft.hdf5\n",
      "Epoch 16/20\n",
      "547/547 [==============================] - 138s 253ms/step - loss: 0.0031 - accuracy: 0.9998 - val_loss: 0.0214 - val_accuracy: 0.9934\n",
      "\n",
      "Epoch 00016: val_loss improved from 0.02420 to 0.02144, saving model to mobnet_wo_ft.hdf5\n",
      "Epoch 17/20\n",
      "547/547 [==============================] - 138s 251ms/step - loss: 0.0029 - accuracy: 0.9998 - val_loss: 0.0258 - val_accuracy: 0.9920\n",
      "\n",
      "Epoch 00017: val_loss did not improve from 0.02144\n",
      "Epoch 18/20\n",
      "547/547 [==============================] - 138s 251ms/step - loss: 0.0037 - accuracy: 0.9997 - val_loss: 0.0223 - val_accuracy: 0.9922\n",
      "\n",
      "Epoch 00018: val_loss did not improve from 0.02144\n",
      "Epoch 19/20\n",
      "547/547 [==============================] - 138s 252ms/step - loss: 0.0013 - accuracy: 1.0000 - val_loss: 0.0247 - val_accuracy: 0.9924\n",
      "\n",
      "Epoch 00019: val_loss did not improve from 0.02144\n",
      "Epoch 20/20\n",
      "547/547 [==============================] - 138s 253ms/step - loss: 0.0012 - accuracy: 1.0000 - val_loss: 0.0210 - val_accuracy: 0.9927\n",
      "\n",
      "Epoch 00020: val_loss improved from 0.02144 to 0.02101, saving model to mobnet_wo_ft.hdf5\n"
     ]
    }
   ],
   "source": [
    "history1 = model2.fit(train_generator, \n",
    "                    steps_per_epoch=len(train_generator), \n",
    "                    epochs=20, \n",
    "                    validation_data=val_generator, \n",
    "                    validation_steps=len(val_generator),callbacks=[checkpointer,earlystop])"
   ]
  },
  {
   "cell_type": "code",
   "execution_count": null,
   "metadata": {
    "id": "tYEyJdmZq9oB"
   },
   "outputs": [],
   "source": [
    "def plot_train_history(history1):\n",
    "    # Summarize history for accuracy\n",
    "    plt.plot(history.history['accuracy'])\n",
    "    plt.plot(history.history['val_accuracy'])\n",
    "    plt.title('Model accuracy')\n",
    "    plt.ylabel('accuracy')\n",
    "    plt.xlabel('epoch')\n",
    "    plt.legend(['train', 'test'], loc='upper left')\n",
    "    plt.show()\n",
    "\n",
    "    # Summarize history for loss\n",
    "    plt.plot(history.history['loss'])\n",
    "    plt.plot(history.history['val_loss'])\n",
    "    plt.title('Model loss')\n",
    "    plt.ylabel('loss')\n",
    "    plt.xlabel('epoch')\n",
    "    plt.legend(['train', 'test'], loc='upper left')\n",
    "    plt.show()"
   ]
  },
  {
   "cell_type": "code",
   "execution_count": null,
   "metadata": {
    "colab": {
     "base_uri": "https://localhost:8080/",
     "height": 573
    },
    "id": "IvQ8AYycApFe",
    "outputId": "85050c7b-7eaa-41f2-9878-ff4548e5087c"
   },
   "outputs": [
    {
     "data": {
      "image/png": "[encoded data removed]",
      "text/plain": [
       "<Figure size 432x288 with 1 Axes>"
      ]
     },
     "metadata": {
      "needs_background": "light",
      "tags": []
     },
     "output_type": "display_data"
    },
    {
     "data": {
      "image/png": "[encoded data removed]",
      "text/plain": [
       "<Figure size 432x288 with 1 Axes>"
      ]
     },
     "metadata": {
      "needs_background": "light",
      "tags": []
     },
     "output_type": "display_data"
    }
   ],
   "source": [
    "plot_train_history(history)\n"
   ]
  },
  {
   "cell_type": "code",
   "execution_count": null,
   "metadata": {
    "colab": {
     "base_uri": "https://localhost:8080/"
    },
    "id": "zN7DBdzEq9oU",
    "outputId": "c3fbd41e-aa78-4dd2-d189-fcc5e36d69b1"
   },
   "outputs": [
    {
     "name": "stderr",
     "output_type": "stream",
     "text": [
      "WARNING:absl:Function `_wrapped_model` contains input name(s) mobilenet_1.00_224_input with unsupported characters which will be renamed to mobilenet_1_00_224_input in the SavedModel.\n"
     ]
    },
    {
     "name": "stdout",
     "output_type": "stream",
     "text": [
      "INFO:tensorflow:Assets written to: /tmp/tmpns71lbra/assets\n"
     ]
    },
    {
     "name": "stderr",
     "output_type": "stream",
     "text": [
      "INFO:tensorflow:Assets written to: /tmp/tmpns71lbra/assets\n"
     ]
    },
    {
     "data": {
      "text/plain": [
       "50600812"
      ]
     },
     "execution_count": 20,
     "metadata": {
      "tags": []
     },
     "output_type": "execute_result"
    }
   ],
   "source": [
    "model=tf.keras.models.load_model(\"./mobnet_wo_ft.hdf5\")\n",
    "converter = tf.lite.TFLiteConverter.from_keras_model(model)\n",
    "converter.experimental_new_converter = True\n",
    "tflite_model = converter.convert()\n",
    "open(\"converted_model.tflite\", \"wb\").write(tflite_model)  "
   ]
  },
  {
   "cell_type": "code",
   "execution_count": null,
   "metadata": {
    "id": "Vg6rJha-FIV2"
   },
   "outputs": [],
   "source": [
    "model2.save_weights('model2_weights.h5')\n",
    "model2.save('model2.h5')"
   ]
  },
  {
   "cell_type": "code",
   "execution_count": null,
   "metadata": {
    "id": "w4QeoK4PFiYO"
   },
   "outputs": [],
   "source": []
  }
 ],
 "metadata": {
  "accelerator": "GPU",
  "colab": {
   "collapsed_sections": [],
   "name": "Copy of Distracted Driver Detection.ipynb",
   "provenance": []
  },
  "kernelspec": {
   "display_name": "Python 3",
   "language": "python",
   "name": "python3"
  },
  "language_info": {
   "codemirror_mode": {
    "name": "ipython",
    "version": 3
   },
   "file_extension": ".py",
   "mimetype": "text/x-python",
   "name": "python",
   "nbconvert_exporter": "python",
   "pygments_lexer": "ipython3",
   "version": "3.8.5"
  }
 },
 "nbformat": 4,
 "nbformat_minor": 1
}
